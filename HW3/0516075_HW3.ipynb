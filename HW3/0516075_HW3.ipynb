{
 "cells": [
  {
   "cell_type": "markdown",
   "metadata": {},
   "source": [
    "## HW3: Decision Tree and Random Forest\n",
    "In hw3, you need to implement decision tree and random forest by using only numpy, then train your implemented model by the provided dataset and test the performance with testing data\n",
    "\n",
    "Please note that only **NUMPY** can be used to implement your model, you will get no points by simply calling sklearn.tree.DecisionTreeClassifier"
   ]
  },
  {
   "cell_type": "markdown",
   "metadata": {},
   "source": [
    "## Load data"
   ]
  },
  {
   "cell_type": "code",
   "execution_count": 1,
   "metadata": {},
   "outputs": [],
   "source": [
    "import numpy as np\n",
    "import pandas as pd\n",
    "import matplotlib.pyplot as plt\n",
    "from sklearn.datasets import load_breast_cancer"
   ]
  },
  {
   "cell_type": "code",
   "execution_count": 2,
   "metadata": {},
   "outputs": [
    {
     "name": "stdout",
     "output_type": "stream",
     "text": [
      "['mean radius' 'mean texture' 'mean perimeter' 'mean area'\n",
      " 'mean smoothness' 'mean compactness' 'mean concavity'\n",
      " 'mean concave points' 'mean symmetry' 'mean fractal dimension'\n",
      " 'radius error' 'texture error' 'perimeter error' 'area error'\n",
      " 'smoothness error' 'compactness error' 'concavity error'\n",
      " 'concave points error' 'symmetry error' 'fractal dimension error'\n",
      " 'worst radius' 'worst texture' 'worst perimeter' 'worst area'\n",
      " 'worst smoothness' 'worst compactness' 'worst concavity'\n",
      " 'worst concave points' 'worst symmetry' 'worst fractal dimension']\n"
     ]
    }
   ],
   "source": [
    "data = load_breast_cancer()\n",
    "feature_names = data['feature_names']\n",
    "print(feature_names)"
   ]
  },
  {
   "cell_type": "code",
   "execution_count": 3,
   "metadata": {},
   "outputs": [],
   "source": [
    "x_train = pd.read_csv(\"x_train.csv\")\n",
    "y_train = pd.read_csv(\"y_train.csv\")\n",
    "x_test = pd.read_csv(\"x_test.csv\")\n",
    "y_test = pd.read_csv(\"y_test.csv\")"
   ]
  },
  {
   "cell_type": "markdown",
   "metadata": {},
   "source": [
    "## Question 1\n",
    "Gini Index or Entropy is often used for measuring the “best” splitting of the data. Please compute the Entropy and Gini Index of provided data. Please use the formula from [page 7 of hw3 slides](https://docs.google.com/presentation/d/1ish3jEr_6be0FK4kgOZa12nYAyJFh0P2LCNsNPOCiXo/edit#slide=id.g7703d1636d_0_21)"
   ]
  },
  {
   "cell_type": "code",
   "execution_count": 4,
   "metadata": {},
   "outputs": [],
   "source": [
    "def gini(sequence):\n",
    "    N = len(sequence)\n",
    "    total_count = np.asarray(np.unique(sequence, return_counts=True)).T\n",
    "    gini_value = 1\n",
    "    for each_class, each_count in total_count:\n",
    "        proportion = (each_count / N) ** 2\n",
    "        gini_value -= proportion\n",
    "    return gini_value\n",
    "\n",
    "def entropy(sequence):\n",
    "    N = len(sequence)\n",
    "    total_count = np.asarray(np.unique(sequence, return_counts=True)).T\n",
    "    entropy_value = 0\n",
    "    for each_class, each_count in total_count:\n",
    "        proportion = (each_count / N)\n",
    "        entropy_value -= np.log2(proportion) * proportion\n",
    "    return entropy_value"
   ]
  },
  {
   "cell_type": "code",
   "execution_count": 6,
   "metadata": {},
   "outputs": [],
   "source": [
    "# 1 = class 1,\n",
    "# 2 = class 2\n",
    "data = np.array([1,2,1,1,1,1,2,2,1,1,2])"
   ]
  },
  {
   "cell_type": "code",
   "execution_count": 7,
   "metadata": {},
   "outputs": [
    {
     "name": "stdout",
     "output_type": "stream",
     "text": [
      "Gini of data is  0.4628099173553719\n"
     ]
    }
   ],
   "source": [
    "print(\"Gini of data is \", gini(data))"
   ]
  },
  {
   "cell_type": "code",
   "execution_count": 8,
   "metadata": {},
   "outputs": [
    {
     "name": "stdout",
     "output_type": "stream",
     "text": [
      "Entropy of data is  0.9456603046006401\n"
     ]
    }
   ],
   "source": [
    "print(\"Entropy of data is \", entropy(data))"
   ]
  },
  {
   "cell_type": "markdown",
   "metadata": {},
   "source": [
    "## Question 2\n",
    "Implement the Decision Tree algorithm (CART, Classification and Regression Trees) and trained the model by the given arguments, and print the accuracy score on the test data. You should implement two arguments for the Decision Tree algorithm\n",
    "1. **Criterion**: The function to measure the quality of a split. Your model should support “gini” for the Gini impurity and “entropy” for the information gain. \n",
    "2. **Max_depth**: The maximum depth of the tree. If Max_depth=None, then nodes are expanded until all leaves are pure. Max_depth=1 equals to split data once\n"
   ]
  },
  {
   "cell_type": "code",
   "execution_count": 9,
   "metadata": {},
   "outputs": [],
   "source": [
    "class Question():\n",
    "    def __init__(self, feature, value):\n",
    "        self.feature = feature\n",
    "        self.value = value"
   ]
  },
  {
   "cell_type": "code",
   "execution_count": 10,
   "metadata": {},
   "outputs": [],
   "source": [
    "class Decision_Node:\n",
    "    def __init__(self, question, true_branch, false_branch):\n",
    "        self.question = question\n",
    "        self.true_branch = true_branch\n",
    "        self.false_branch = false_branch"
   ]
  },
  {
   "cell_type": "code",
   "execution_count": 11,
   "metadata": {},
   "outputs": [],
   "source": [
    "class DecisionTree():\n",
    "    def __init__(self, criterion='gini', max_depth=None):\n",
    "        self.criterion = criterion\n",
    "        self.max_depth = max_depth\n",
    "\n",
    "    def gini(self, sequence):\n",
    "        N = len(sequence)\n",
    "        total_count = np.asarray(np.unique(sequence, return_counts=True)).T\n",
    "        gini_value = 1\n",
    "        for each_class, each_count in total_count:\n",
    "            proportion = (each_count / N) ** 2\n",
    "            gini_value -= proportion\n",
    "        return gini_value\n",
    "\n",
    "    def entropy(self, sequence):\n",
    "        N = len(sequence)\n",
    "        total_count = np.asarray(np.unique(sequence, return_counts=True)).T\n",
    "        entropy_value = 0\n",
    "        for each_class, each_count in total_count:\n",
    "            proportion = (each_count / N)\n",
    "            entropy_value -= np.log2(proportion) * proportion\n",
    "        return entropy_value\n",
    "\n",
    "    def find_best_split(self, X, y):\n",
    "        best_purity = 1e5\n",
    "        best_question = None\n",
    "        for feature_idx in range(X.shape[1]):\n",
    "            unique_values = np.unique(X[:, feature_idx])\n",
    "            for candidate_value in unique_values:\n",
    "                current_question = Question(feature=feature_idx,\n",
    "                                            value=candidate_value)\n",
    "                true_partition_X, true_partition_y, false_partition_X, false_partition_y = self.splitter(X, y, current_question)\n",
    "                # len == 0 means this candidate doesn't partition data\n",
    "                if len(true_partition_X) == 0 or len(false_partition_X) == 0:\n",
    "                    continue\n",
    "                # Use selected criterion to calculate purity and weighted\n",
    "                if self.criterion == 'gini':\n",
    "                    true_purity = self.gini(true_partition_y)\n",
    "                    false_purity = self.gini(false_partition_y)\n",
    "                    weight = len(true_partition_y) / (len(true_partition_y) + len(false_partition_y))\n",
    "                    current_purity = weight * true_purity + (1 - weight) * false_purity\n",
    "                elif self.criterion == 'entropy':\n",
    "                    true_purity = self.entropy(true_partition_y)\n",
    "                    false_purity = self.entropy(false_partition_y)\n",
    "                    weight = len(true_partition_y) / (len(true_partition_y) + len(false_partition_y))\n",
    "                    current_purity = weight * true_purity + (1 - weight) * false_purity\n",
    "\n",
    "                if current_purity <= best_purity:\n",
    "                    best_purity = current_purity\n",
    "                    best_question = current_question\n",
    "        return best_purity, best_question\n",
    "\n",
    "    def splitter(self, X, y, question):\n",
    "        true_index = np.where(X[:, question.feature] >= question.value)\n",
    "        false_index = np.where(X[:, question.feature] < question.value)\n",
    "        true_X = X[true_index]\n",
    "        true_y = y[true_index]\n",
    "        false_X = X[false_index]\n",
    "        false_y = y[false_index]\n",
    "        return true_X, true_y, false_X, false_y\n",
    "\n",
    "    def fit(self, X, y):\n",
    "        self.feature_importance = np.zeros(X.shape[1])\n",
    "        self.tree_model = self.build_tree(X, y, 0)\n",
    "\n",
    "    def build_tree(self, X, y, current_depth):\n",
    "        total_count = np.asarray(np.unique(y, return_counts=True)).T\n",
    "        # All items are same class in this group\n",
    "        if current_depth != 0 and len(total_count) == 1:\n",
    "            leaf_count = {}\n",
    "            for each_class, each_count in total_count:\n",
    "                leaf_count[each_class] = each_count\n",
    "            return leaf_count\n",
    "        # Reach max depth\n",
    "        if self.max_depth is not None and current_depth + 1 > self.max_depth:\n",
    "            leaf_count = {}\n",
    "            for each_class, each_count in total_count:\n",
    "                leaf_count[each_class] = each_count\n",
    "            return leaf_count\n",
    "\n",
    "        best_purity, best_question = self.find_best_split(X, y)\n",
    "        if best_purity == 1e5:\n",
    "            leaf_count = {}\n",
    "            for each_class, each_count in total_count:\n",
    "                leaf_count[each_class] = each_count\n",
    "            return leaf_count\n",
    "\n",
    "        self.feature_importance[best_question.feature] += 1\n",
    "        true_partition_X, true_partition_y, false_partition_X, false_partition_y = self.splitter(X, y, best_question)\n",
    "        true_partition = self.build_tree(true_partition_X,\n",
    "                                         true_partition_y,\n",
    "                                         current_depth + 1)\n",
    "        false_partition = self.build_tree(false_partition_X,\n",
    "                                          false_partition_y,\n",
    "                                          current_depth + 1)\n",
    "        return Decision_Node(best_question, true_partition, false_partition)\n",
    "\n",
    "    def predict(self, X):\n",
    "        predict_class = []\n",
    "        for row_id in range(len(X)):\n",
    "            node = self.traverse(X[row_id], self.tree_model)\n",
    "            predict_class.append(max(node, key=node.get))\n",
    "        return np.array(predict_class)\n",
    "\n",
    "    def traverse(self, row, node):\n",
    "        if isinstance(node, dict):\n",
    "            return node\n",
    "        if row[node.question.feature] >= node.question.value:\n",
    "            return self.traverse(row, node.true_branch)\n",
    "        else:\n",
    "            return self.traverse(row, node.false_branch)\n",
    "\n",
    "    def evaluate(self, predicted, truth):\n",
    "        correct = 0\n",
    "        for i in range(len(predicted)):\n",
    "            if predicted[i] == truth[i][0]:\n",
    "                correct += 1\n",
    "        print(\"Testing accuracy is: {} with {} / {}\".format(correct / len(predicted), correct, len(predicted)))"
   ]
  },
  {
   "cell_type": "markdown",
   "metadata": {},
   "source": [
    "### Question 2.1\n",
    "Using Criterion=‘gini’, showing the accuracy score of test data by Max_depth=3 and Max_depth=10, respectively.\n"
   ]
  },
  {
   "cell_type": "code",
   "execution_count": 12,
   "metadata": {
    "scrolled": true
   },
   "outputs": [
    {
     "name": "stdout",
     "output_type": "stream",
     "text": [
      "Testing accuracy is: 0.9440559440559441 with 135 / 143\n"
     ]
    }
   ],
   "source": [
    "clf_depth3 = DecisionTree(criterion='gini', max_depth=3)\n",
    "clf_depth3.fit(x_train.values, y_train.values)\n",
    "predict_class = clf_depth3.predict(x_test.values)\n",
    "clf_depth3.evaluate(predict_class, y_test.values)"
   ]
  },
  {
   "cell_type": "code",
   "execution_count": 13,
   "metadata": {},
   "outputs": [
    {
     "name": "stdout",
     "output_type": "stream",
     "text": [
      "Testing accuracy is: 0.951048951048951 with 136 / 143\n"
     ]
    }
   ],
   "source": [
    "clf_depth10 = DecisionTree(criterion='gini', max_depth=10)\n",
    "clf_depth10.fit(x_train.values, y_train.values)\n",
    "predict_class = clf_depth10.predict(x_test.values)\n",
    "clf_depth10.evaluate(predict_class, y_test.values)"
   ]
  },
  {
   "cell_type": "code",
   "execution_count": 14,
   "metadata": {},
   "outputs": [],
   "source": [
    "# Get from https://github.com/random-forests/tutorials/blob/master/decision_tree.ipynb\n",
    "# Just for visualization to check\n",
    "def print_tree(node, spacing=\"\"):\n",
    "    \"\"\"World's most elegant tree printing function.\"\"\"\n",
    "\n",
    "    # Base case: we've reached a leaf\n",
    "    if isinstance(node, dict):\n",
    "        print (spacing + \"Predict\", node)\n",
    "        return\n",
    "\n",
    "    # Print the question at this node\n",
    "    print (spacing + str(node.question.feature) + ' >= ' + str(node.question.value))\n",
    "\n",
    "    # Call this function recursively on the true branch\n",
    "    print (spacing + '--> True:')\n",
    "    print_tree(node.true_branch, spacing + \"  \")\n",
    "\n",
    "    # Call this function recursively on the false branch\n",
    "    print (spacing + '--> False:')\n",
    "    print_tree(node.false_branch, spacing + \"  \")"
   ]
  },
  {
   "cell_type": "code",
   "execution_count": 15,
   "metadata": {
    "scrolled": true
   },
   "outputs": [],
   "source": [
    "# print_tree(clf.tree_model)"
   ]
  },
  {
   "cell_type": "markdown",
   "metadata": {},
   "source": [
    "### Question 2.2\n",
    "Using Max_depth=3, showing the accuracy score of test data by Criterion=‘gini’ and Criterion=’entropy’, respectively.\n"
   ]
  },
  {
   "cell_type": "code",
   "execution_count": 16,
   "metadata": {},
   "outputs": [
    {
     "name": "stdout",
     "output_type": "stream",
     "text": [
      "Testing accuracy is: 0.9440559440559441 with 135 / 143\n"
     ]
    }
   ],
   "source": [
    "clf_gini = DecisionTree(criterion='gini', max_depth=3)\n",
    "clf_gini.fit(x_train.values, y_train.values)\n",
    "predict_class = clf_gini.predict(x_test.values)\n",
    "clf_gini.evaluate(predict_class, y_test.values)"
   ]
  },
  {
   "cell_type": "code",
   "execution_count": 17,
   "metadata": {},
   "outputs": [
    {
     "name": "stdout",
     "output_type": "stream",
     "text": [
      "Testing accuracy is: 0.9440559440559441 with 135 / 143\n"
     ]
    }
   ],
   "source": [
    "clf_entropy = DecisionTree(criterion='entropy', max_depth=3)\n",
    "clf_entropy.fit(x_train.values, y_train.values)\n",
    "predict_class = clf_entropy.predict(x_test.values)\n",
    "clf_entropy.evaluate(predict_class, y_test.values)"
   ]
  },
  {
   "cell_type": "markdown",
   "metadata": {},
   "source": [
    "- Note: All of your accuracy scores should over 0.9\n",
    "- Note: You should get the same results when re-building the model with the same arguments,  no need to prune the trees\n",
    "- Hint: You can use the recursive method to build the nodes\n"
   ]
  },
  {
   "cell_type": "markdown",
   "metadata": {},
   "source": [
    "## Question 3\n",
    "Plot the [feature importance](https://sefiks.com/2020/04/06/feature-importance-in-decision-trees/) of your Decision Tree model. You can get the feature importance by counting the feature used for splitting data.\n",
    "\n",
    "- You can simply plot the feature counts for building tree without normalize the importance\n",
    "\n",
    "![image](https://i2.wp.com/sefiks.com/wp-content/uploads/2020/04/c45-fi-results.jpg?w=481&ssl=1)"
   ]
  },
  {
   "cell_type": "code",
   "execution_count": 18,
   "metadata": {
    "scrolled": false
   },
   "outputs": [
    {
     "data": {
      "text/plain": [
       "<BarContainer object of 30 artists>"
      ]
     },
     "execution_count": 18,
     "metadata": {},
     "output_type": "execute_result"
    },
    {
     "data": {
      "image/png": "[encoded data removed]",
      "text/plain": [
       "<Figure size 576x432 with 1 Axes>"
      ]
     },
     "metadata": {
      "needs_background": "light"
     },
     "output_type": "display_data"
    }
   ],
   "source": [
    "importances = clf_depth10.feature_importance\n",
    "features = np.array(x_train.columns)\n",
    "plt.figure(figsize=(8, 6))\n",
    "plt.title('Feature Importnace of Decision Tree with max_depth=10')\n",
    "plt.ylabel('Features')\n",
    "plt.xlabel('Count')\n",
    "plt.barh(features, importances)"
   ]
  },
  {
   "cell_type": "markdown",
   "metadata": {},
   "source": [
    "## Question 4\n",
    "implement the Random Forest algorithm by using the CART you just implemented from question 2. You should implement two arguments for the Random Forest.\n",
    "\n",
    "1. **N_estimators**: The number of trees in the forest. \n",
    "2. **Max_features**: The number of random select features to consider when looking for the best split\n",
    "3. **Bootstrap**: Whether bootstrap samples are used when building tree\n"
   ]
  },
  {
   "cell_type": "code",
   "execution_count": 27,
   "metadata": {},
   "outputs": [],
   "source": [
    "class RandomForest():\n",
    "    def __init__(self, n_estimators, max_features, boostrap=True, criterion='gini', max_depth=None):\n",
    "        self.n_estimators = n_estimators\n",
    "        self.max_features = int(max_features)\n",
    "        self.boostrap = boostrap\n",
    "        self.criterion = criterion\n",
    "        self.max_depth = max_depth\n",
    "    \n",
    "    def fit(self, X, y):\n",
    "        rf_model = []\n",
    "        for tree_id in range(self.n_estimators):\n",
    "            data_length = X.shape[0]\n",
    "            feature_length = X.shape[1]\n",
    "            if self.boostrap == False:\n",
    "                selected_features = np.random.choice(feature_length, self.max_features)\n",
    "                filter_X = X[:, selected_features]\n",
    "                # Build decision tree model than append to random forest model\n",
    "                dt_model = DecisionTree(criterion=self.criterion, max_depth=self.max_depth)\n",
    "                dt_model.fit(filter_X, y)\n",
    "                rf_model.append([dt_model, selected_features])\n",
    "            else:\n",
    "                # Bootstrap data from randomly selecting with replacement\n",
    "                selected_rows = np.random.choice(data_length, data_length, replace=True)\n",
    "                ensemble_X = X[selected_rows, :]\n",
    "                ensemble_y = y[selected_rows, :]\n",
    "                # Randomly select max_features' features to build a tree\n",
    "                selected_features = np.random.choice(feature_length, self.max_features)\n",
    "                ensemble_filter_X = ensemble_X[:, selected_features]\n",
    "                # Build decision tree model than append to random forest model\n",
    "                dt_model = DecisionTree(criterion=self.criterion, max_depth=self.max_depth)\n",
    "                dt_model.fit(ensemble_filter_X, ensemble_y)\n",
    "                rf_model.append([dt_model, selected_features])\n",
    "        self.rf_model = rf_model\n",
    "\n",
    "    def predict(self, X):\n",
    "        predict_class = []\n",
    "        for row_id in range(len(X)):\n",
    "            # Binary classification\n",
    "            tree_vote = {0: 0, 1: 0}\n",
    "            for tree_id in range(self.n_estimators):\n",
    "                filter_X = X[row_id, self.rf_model[tree_id][1]]\n",
    "                node = self.rf_model[tree_id][0].traverse(filter_X, self.rf_model[tree_id][0].tree_model)\n",
    "                node_class = max(node, key=node.get)\n",
    "                tree_vote[node_class] += 1\n",
    "            predict_class.append(max(tree_vote, key=tree_vote.get))\n",
    "        return np.array(predict_class)\n",
    "\n",
    "    def evaluate(self, predicted, truth):\n",
    "        correct = 0\n",
    "        for i in range(len(predicted)):\n",
    "            if predicted[i] == truth[i][0]:\n",
    "                correct += 1\n",
    "        print(\"Testing accuracy is: {} with {} / {}\".format(correct / len(predicted), correct, len(predicted)))"
   ]
  },
  {
   "cell_type": "markdown",
   "metadata": {},
   "source": [
    "### Question 4.1\n",
    "Using Criterion=‘gini’, Max_depth=None, Max_features=sqrt(n_features), showing the accuracy score of test data by n_estimators=10 and n_estimators=100, respectively.\n"
   ]
  },
  {
   "cell_type": "code",
   "execution_count": 28,
   "metadata": {
    "scrolled": true
   },
   "outputs": [
    {
     "name": "stdout",
     "output_type": "stream",
     "text": [
      "Testing accuracy is: 0.965034965034965 with 138 / 143\n"
     ]
    }
   ],
   "source": [
    "clf_10tree = RandomForest(n_estimators=10, max_features=np.sqrt(x_train.shape[1]))\n",
    "clf_10tree.fit(x_train.values, y_train.values)\n",
    "predict_class = clf_10tree.predict(x_test.values)\n",
    "clf_10tree.evaluate(predict_class, y_test.values)"
   ]
  },
  {
   "cell_type": "code",
   "execution_count": 29,
   "metadata": {},
   "outputs": [
    {
     "name": "stdout",
     "output_type": "stream",
     "text": [
      "Testing accuracy is: 0.951048951048951 with 136 / 143\n"
     ]
    }
   ],
   "source": [
    "clf_100tree = RandomForest(n_estimators=100, max_features=np.sqrt(x_train.shape[1]))\n",
    "clf_100tree.fit(x_train.values, y_train.values)\n",
    "predict_class = clf_100tree.predict(x_test.values)\n",
    "clf_100tree.evaluate(predict_class, y_test.values)"
   ]
  },
  {
   "cell_type": "markdown",
   "metadata": {},
   "source": [
    "### Question 4.2\n",
    "Using Criterion=‘gini’, Max_depth=None, N_estimators=10, showing the accuracy score of test data by Max_features=sqrt(n_features) and Max_features=n_features, respectively.\n"
   ]
  },
  {
   "cell_type": "code",
   "execution_count": 32,
   "metadata": {},
   "outputs": [
    {
     "name": "stdout",
     "output_type": "stream",
     "text": [
      "Testing accuracy is: 0.951048951048951 with 136 / 143\n"
     ]
    }
   ],
   "source": [
    "clf_all_features = RandomForest(n_estimators=10, max_features=x_train.shape[1])\n",
    "clf_all_features.fit(x_train.values, y_train.values)\n",
    "predict_class = clf_all_features.predict(x_test.values)\n",
    "clf_all_features.evaluate(predict_class, y_test.values)"
   ]
  },
  {
   "cell_type": "code",
   "execution_count": 33,
   "metadata": {},
   "outputs": [
    {
     "name": "stdout",
     "output_type": "stream",
     "text": [
      "Testing accuracy is: 0.9370629370629371 with 134 / 143\n"
     ]
    }
   ],
   "source": [
    "clf_random_features = RandomForest(n_estimators=10, max_features=np.sqrt(x_train.shape[1]))\n",
    "clf_random_features.fit(x_train.values, y_train.values)\n",
    "predict_class = clf_random_features.predict(x_test.values)\n",
    "clf_random_features.evaluate(predict_class, y_test.values)"
   ]
  },
  {
   "cell_type": "markdown",
   "metadata": {},
   "source": [
    "- Note: Use majority votes to get the final prediction, you may get slightly different results when re-building the random forest model"
   ]
  },
  {
   "cell_type": "code",
   "execution_count": null,
   "metadata": {},
   "outputs": [],
   "source": []
  },
  {
   "cell_type": "markdown",
   "metadata": {},
   "source": [
    "## Supplementary\n",
    "If you have trouble to implement this homework, TA strongly recommend watching [this video](https://www.youtube.com/watch?v=LDRbO9a6XPU), which explains Decision Tree model clearly. But don't copy code from any resources, try to finish this homework by yourself! "
   ]
  },
  {
   "cell_type": "code",
   "execution_count": null,
   "metadata": {},
   "outputs": [],
   "source": []
  }
 ],
 "metadata": {
  "kernelspec": {
   "display_name": "Python 3",
   "language": "python",
   "name": "python3"
  },
  "language_info": {
   "codemirror_mode": {
    "name": "ipython",
    "version": 3
   },
   "file_extension": ".py",
   "mimetype": "text/x-python",
   "name": "python",
   "nbconvert_exporter": "python",
   "pygments_lexer": "ipython3",
   "version": "3.6.7"
  }
 },
 "nbformat": 4,
 "nbformat_minor": 4
}
