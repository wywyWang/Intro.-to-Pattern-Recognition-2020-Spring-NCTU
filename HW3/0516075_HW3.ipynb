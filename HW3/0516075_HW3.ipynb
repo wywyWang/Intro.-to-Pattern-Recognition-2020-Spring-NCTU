{
 "cells": [
  {
   "cell_type": "markdown",
   "metadata": {},
   "source": [
    "## HW3: Decision Tree and Random Forest\n",
    "In hw3, you need to implement decision tree and random forest by using only numpy, then train your implemented model by the provided dataset and test the performance with testing data\n",
    "\n",
    "Please note that only **NUMPY** can be used to implement your model, you will get no points by simply calling sklearn.tree.DecisionTreeClassifier"
   ]
  },
  {
   "cell_type": "markdown",
   "metadata": {},
   "source": [
    "## Load data"
   ]
  },
  {
   "cell_type": "code",
   "execution_count": 1,
   "metadata": {},
   "outputs": [],
   "source": [
    "import numpy as np\n",
    "import pandas as pd\n",
    "import matplotlib.pyplot as plt\n",
    "from sklearn.datasets import load_breast_cancer"
   ]
  },
  {
   "cell_type": "code",
   "execution_count": 2,
   "metadata": {},
   "outputs": [
    {
     "output_type": "stream",
     "name": "stdout",
     "text": "['mean radius' 'mean texture' 'mean perimeter' 'mean area'\n 'mean smoothness' 'mean compactness' 'mean concavity'\n 'mean concave points' 'mean symmetry' 'mean fractal dimension'\n 'radius error' 'texture error' 'perimeter error' 'area error'\n 'smoothness error' 'compactness error' 'concavity error'\n 'concave points error' 'symmetry error' 'fractal dimension error'\n 'worst radius' 'worst texture' 'worst perimeter' 'worst area'\n 'worst smoothness' 'worst compactness' 'worst concavity'\n 'worst concave points' 'worst symmetry' 'worst fractal dimension']\n"
    }
   ],
   "source": [
    "data = load_breast_cancer()\n",
    "feature_names = data['feature_names']\n",
    "print(feature_names)"
   ]
  },
  {
   "cell_type": "code",
   "execution_count": 3,
   "metadata": {},
   "outputs": [],
   "source": [
    "x_train = pd.read_csv(\"x_train.csv\")\n",
    "y_train = pd.read_csv(\"y_train.csv\")\n",
    "x_test = pd.read_csv(\"x_test.csv\")\n",
    "y_test = pd.read_csv(\"y_test.csv\")"
   ]
  },
  {
   "cell_type": "markdown",
   "metadata": {},
   "source": [
    "## Question 1\n",
    "Gini Index or Entropy is often used for measuring the “best” splitting of the data. Please compute the Entropy and Gini Index of provided data. Please use the formula from [page 7 of hw3 slides](https://docs.google.com/presentation/d/1ish3jEr_6be0FK4kgOZa12nYAyJFh0P2LCNsNPOCiXo/edit#slide=id.g7703d1636d_0_21)"
   ]
  },
  {
   "cell_type": "code",
   "execution_count": 4,
   "metadata": {},
   "outputs": [],
   "source": [
    "def gini(sequence):\n",
    "    N = len(sequence)\n",
    "    total_count = np.asarray(np.unique(sequence, return_counts=True)).T\n",
    "    gini_value = 1\n",
    "    for each_class, each_count in total_count:\n",
    "        proportion = (each_count / N) ** 2\n",
    "        gini_value -= proportion\n",
    "    return gini_value\n",
    "\n",
    "def entropy(sequence):\n",
    "    N = len(sequence)\n",
    "    total_count = np.asarray(np.unique(sequence, return_counts=True)).T\n",
    "    entropy_value = 0\n",
    "    for each_class, each_count in total_count:\n",
    "        proportion = (each_count / N)\n",
    "        entropy_value -= np.log2(proportion) * proportion\n",
    "    return entropy_value"
   ]
  },
  {
   "cell_type": "code",
   "execution_count": 5,
   "metadata": {},
   "outputs": [],
   "source": [
    "# 1 = class 1,\n",
    "# 2 = class 2\n",
    "data = np.array([1,2,1,1,1,1,2,2,1,1,2])"
   ]
  },
  {
   "cell_type": "code",
   "execution_count": 6,
   "metadata": {},
   "outputs": [
    {
     "output_type": "stream",
     "name": "stdout",
     "text": "Gini of data is  0.4628099173553719\n"
    }
   ],
   "source": [
    "print(\"Gini of data is \", gini(data))"
   ]
  },
  {
   "cell_type": "code",
   "execution_count": 7,
   "metadata": {},
   "outputs": [
    {
     "output_type": "stream",
     "name": "stdout",
     "text": "Entropy of data is  0.9456603046006401\n"
    }
   ],
   "source": [
    "print(\"Entropy of data is \", entropy(data))"
   ]
  },
  {
   "cell_type": "markdown",
   "metadata": {},
   "source": [
    "## Question 2\n",
    "Implement the Decision Tree algorithm (CART, Classification and Regression Trees) and trained the model by the given arguments, and print the accuracy score on the test data. You should implement two arguments for the Decision Tree algorithm\n",
    "1. **Criterion**: The function to measure the quality of a split. Your model should support “gini” for the Gini impurity and “entropy” for the information gain. \n",
    "2. **Max_depth**: The maximum depth of the tree. If Max_depth=None, then nodes are expanded until all leaves are pure. Max_depth=1 equals to split data once\n"
   ]
  },
  {
   "cell_type": "code",
   "execution_count": 8,
   "metadata": {},
   "outputs": [],
   "source": [
    "class Question():\n",
    "    def __init__(self, feature, value):\n",
    "        self.feature = feature\n",
    "        self.value = value"
   ]
  },
  {
   "cell_type": "code",
   "execution_count": 9,
   "metadata": {},
   "outputs": [],
   "source": [
    "class Decision_Node:\n",
    "    def __init__(self, question, true_branch, false_branch):\n",
    "        self.question = question\n",
    "        self.true_branch = true_branch\n",
    "        self.false_branch = false_branch"
   ]
  },
  {
   "cell_type": "code",
   "execution_count": 10,
   "metadata": {},
   "outputs": [],
   "source": [
    "class DecisionTree():\n",
    "    def __init__(self, criterion='gini', max_depth=None):\n",
    "        self.criterion = criterion\n",
    "        self.max_depth = max_depth\n",
    "\n",
    "    def gini(self, sequence):\n",
    "        N = len(sequence)\n",
    "        total_count = np.asarray(np.unique(sequence, return_counts=True)).T\n",
    "        gini_value = 1\n",
    "        for each_class, each_count in total_count:\n",
    "            proportion = (each_count / N) ** 2\n",
    "            gini_value -= proportion\n",
    "        return gini_value\n",
    "\n",
    "    def entropy(self, sequence):\n",
    "        N = len(sequence)\n",
    "        total_count = np.asarray(np.unique(sequence, return_counts=True)).T\n",
    "        entropy_value = 0\n",
    "        for each_class, each_count in total_count:\n",
    "            proportion = (each_count / N)\n",
    "            entropy_value -= np.log2(proportion) * proportion\n",
    "        return entropy_value\n",
    "\n",
    "    def find_best_split(self, X, y):\n",
    "        best_purity = 1e5\n",
    "        best_question = None\n",
    "        for feature_idx in range(X.shape[1]):\n",
    "            unique_values = np.unique(X[:, feature_idx])\n",
    "            for candidate_value in unique_values:\n",
    "                current_question = Question(feature=feature_idx,\n",
    "                                            value=candidate_value)\n",
    "                true_partition_X, true_partition_y, false_partition_X, false_partition_y = self.splitter(X, y, current_question)\n",
    "                # len == 0 means this candidate doesn't partition data\n",
    "                if len(true_partition_X) == 0 or len(false_partition_X) == 0:\n",
    "                    continue\n",
    "                # Use selected criterion to calculate purity and weighted\n",
    "                if self.criterion == 'gini':\n",
    "                    true_purity = self.gini(true_partition_y)\n",
    "                    false_purity = self.gini(false_partition_y)\n",
    "                    weight = len(true_partition_y) / (len(true_partition_y) + len(false_partition_y))\n",
    "                    current_purity = weight * true_purity + (1 - weight) * false_purity\n",
    "                elif self.criterion == 'entropy':\n",
    "                    true_purity = self.entropy(true_partition_y)\n",
    "                    false_purity = self.entropy(false_partition_y)\n",
    "                    weight = len(true_partition_y) / (len(true_partition_y) + len(false_partition_y))\n",
    "                    current_purity = weight * true_purity + (1 - weight) * false_purity\n",
    "\n",
    "                if current_purity <= best_purity:\n",
    "                    best_purity = current_purity\n",
    "                    best_question = current_question\n",
    "        return best_purity, best_question\n",
    "\n",
    "    def splitter(self, X, y, question):\n",
    "        true_index = np.where(X[:, question.feature] >= question.value)\n",
    "        false_index = np.where(X[:, question.feature] < question.value)\n",
    "        true_X = X[true_index]\n",
    "        true_y = y[true_index]\n",
    "        false_X = X[false_index]\n",
    "        false_y = y[false_index]\n",
    "        return true_X, true_y, false_X, false_y\n",
    "\n",
    "    def fit(self, X, y):\n",
    "        self.feature_importance = np.zeros(X.shape[1])\n",
    "        self.tree_model = self.build_tree(X, y, 0)\n",
    "\n",
    "    def build_tree(self, X, y, current_depth):\n",
    "        total_count = np.asarray(np.unique(y, return_counts=True)).T\n",
    "        # All items are same class in this group\n",
    "        if current_depth != 0 and len(total_count) == 1:\n",
    "            leaf_count = {}\n",
    "            for each_class, each_count in total_count:\n",
    "                leaf_count[each_class] = each_count\n",
    "            return leaf_count\n",
    "        # Reach max depth\n",
    "        if self.max_depth is not None and current_depth + 1 > self.max_depth:\n",
    "            leaf_count = {}\n",
    "            for each_class, each_count in total_count:\n",
    "                leaf_count[each_class] = each_count\n",
    "            return leaf_count\n",
    "\n",
    "        best_purity, best_question = self.find_best_split(X, y)\n",
    "        if best_purity == 1e5:\n",
    "            leaf_count = {}\n",
    "            for each_class, each_count in total_count:\n",
    "                leaf_count[each_class] = each_count\n",
    "            return leaf_count\n",
    "\n",
    "        self.feature_importance[best_question.feature] += 1\n",
    "        true_partition_X, true_partition_y, false_partition_X, false_partition_y = self.splitter(X, y, best_question)\n",
    "        true_partition = self.build_tree(true_partition_X,\n",
    "                                         true_partition_y,\n",
    "                                         current_depth + 1)\n",
    "        false_partition = self.build_tree(false_partition_X,\n",
    "                                          false_partition_y,\n",
    "                                          current_depth + 1)\n",
    "        return Decision_Node(best_question, true_partition, false_partition)\n",
    "\n",
    "    def predict(self, X):\n",
    "        predict_class = []\n",
    "        for row_id in range(len(X)):\n",
    "            node = self.traverse(X[row_id], self.tree_model)\n",
    "            predict_class.append(max(node, key=node.get))\n",
    "        return np.array(predict_class)\n",
    "\n",
    "    def traverse(self, row, node):\n",
    "        if isinstance(node, dict):\n",
    "            return node\n",
    "        if row[node.question.feature] >= node.question.value:\n",
    "            return self.traverse(row, node.true_branch)\n",
    "        else:\n",
    "            return self.traverse(row, node.false_branch)\n",
    "\n",
    "    def evaluate(self, predicted, truth):\n",
    "        correct = 0\n",
    "        for i in range(len(predicted)):\n",
    "            if predicted[i] == truth[i][0]:\n",
    "                correct += 1\n",
    "        print(\"Testing accuracy is: {} with {} / {}\".format(correct / len(predicted), correct, len(predicted)))"
   ]
  },
  {
   "cell_type": "markdown",
   "metadata": {},
   "source": [
    "### Question 2.1\n",
    "Using Criterion=‘gini’, showing the accuracy score of test data by Max_depth=3 and Max_depth=10, respectively.\n"
   ]
  },
  {
   "cell_type": "code",
   "execution_count": 11,
   "metadata": {
    "scrolled": true
   },
   "outputs": [
    {
     "output_type": "stream",
     "name": "stdout",
     "text": "Testing accuracy is: 0.9440559440559441 with 135 / 143\n"
    }
   ],
   "source": [
    "clf_depth3 = DecisionTree(criterion='gini', max_depth=3)\n",
    "clf_depth3.fit(x_train.values, y_train.values)\n",
    "predict_class = clf_depth3.predict(x_test.values)\n",
    "clf_depth3.evaluate(predict_class, y_test.values)"
   ]
  },
  {
   "cell_type": "code",
   "execution_count": 12,
   "metadata": {},
   "outputs": [
    {
     "output_type": "stream",
     "name": "stdout",
     "text": "Testing accuracy is: 0.951048951048951 with 136 / 143\n"
    }
   ],
   "source": [
    "clf_depth10 = DecisionTree(criterion='gini', max_depth=10)\n",
    "clf_depth10.fit(x_train.values, y_train.values)\n",
    "predict_class = clf_depth10.predict(x_test.values)\n",
    "clf_depth10.evaluate(predict_class, y_test.values)"
   ]
  },
  {
   "cell_type": "code",
   "execution_count": 13,
   "metadata": {},
   "outputs": [],
   "source": [
    "def print_tree(node, spacing=\"\"):\n",
    "    # Get from https://github.com/random-forests/tutorials/blob/master/decision_tree.ipynb\n",
    "    # Just for visualization to check\n",
    "    \"\"\"World's most elegant tree printing function.\"\"\"\n",
    "\n",
    "    # Base case: we've reached a leaf\n",
    "    if isinstance(node, dict):\n",
    "        print (spacing + \"Predict\", node)\n",
    "        return\n",
    "\n",
    "    # Print the question at this node\n",
    "    print (spacing + str(node.question.feature) + ' >= ' + str(node.question.value))\n",
    "\n",
    "    # Call this function recursively on the true branch\n",
    "    print (spacing + '--> True:')\n",
    "    print_tree(node.true_branch, spacing + \"  \")\n",
    "\n",
    "    # Call this function recursively on the false branch\n",
    "    print (spacing + '--> False:')\n",
    "    print_tree(node.false_branch, spacing + \"  \")"
   ]
  },
  {
   "cell_type": "code",
   "execution_count": 14,
   "metadata": {
    "scrolled": true
   },
   "outputs": [],
   "source": [
    "# print_tree(clf.tree_model)"
   ]
  },
  {
   "cell_type": "markdown",
   "metadata": {},
   "source": [
    "### Question 2.2\n",
    "Using Max_depth=3, showing the accuracy score of test data by Criterion=‘gini’ and Criterion=’entropy’, respectively.\n"
   ]
  },
  {
   "cell_type": "code",
   "execution_count": 15,
   "metadata": {},
   "outputs": [
    {
     "output_type": "stream",
     "name": "stdout",
     "text": "Testing accuracy is: 0.9440559440559441 with 135 / 143\n"
    }
   ],
   "source": [
    "clf_gini = DecisionTree(criterion='gini', max_depth=3)\n",
    "clf_gini.fit(x_train.values, y_train.values)\n",
    "predict_class = clf_gini.predict(x_test.values)\n",
    "clf_gini.evaluate(predict_class, y_test.values)"
   ]
  },
  {
   "cell_type": "code",
   "execution_count": 16,
   "metadata": {},
   "outputs": [
    {
     "output_type": "stream",
     "name": "stdout",
     "text": "Testing accuracy is: 0.9440559440559441 with 135 / 143\n"
    }
   ],
   "source": [
    "clf_entropy = DecisionTree(criterion='entropy', max_depth=3)\n",
    "clf_entropy.fit(x_train.values, y_train.values)\n",
    "predict_class = clf_entropy.predict(x_test.values)\n",
    "clf_entropy.evaluate(predict_class, y_test.values)"
   ]
  },
  {
   "cell_type": "markdown",
   "metadata": {},
   "source": [
    "- Note: All of your accuracy scores should over 0.9\n",
    "- Note: You should get the same results when re-building the model with the same arguments,  no need to prune the trees\n",
    "- Hint: You can use the recursive method to build the nodes\n"
   ]
  },
  {
   "cell_type": "markdown",
   "metadata": {},
   "source": [
    "## Question 3\n",
    "Plot the [feature importance](https://sefiks.com/2020/04/06/feature-importance-in-decision-trees/) of your Decision Tree model. You can get the feature importance by counting the feature used for splitting data.\n",
    "\n",
    "- You can simply plot the feature counts for building tree without normalize the importance\n",
    "\n",
    "![image](https://i2.wp.com/sefiks.com/wp-content/uploads/2020/04/c45-fi-results.jpg?w=481&ssl=1)"
   ]
  },
  {
   "cell_type": "code",
   "execution_count": 17,
   "metadata": {
    "scrolled": false
   },
   "outputs": [
    {
     "output_type": "execute_result",
     "data": {
      "text/plain": "<BarContainer object of 30 artists>"
     },
     "metadata": {},
     "execution_count": 17
    },
    {
     "output_type": "display_data",
     "data": {
      "text/plain": "<Figure size 576x432 with 1 Axes>",
      "image/svg+xml": "<?xml version=\"1.0\" encoding=\"utf-8\" standalone=\"no\"?>\r\n<!DOCTYPE svg PUBLIC \"-//W3C//DTD SVG 1.1//EN\"\r\n  \"http://www.w3.org/Graphics/SVG/1.1/DTD/svg11.dtd\">\r\n<!-- Created with matplotlib (http://matplotlib.org/) -->\r\n<svg height=\"386.034375pt\" version=\"1.1\" viewBox=\"0 0 603.579687 386.034375\" width=\"603.579687pt\" xmlns=\"http://www.w3.org/2000/svg\" xmlns:xlink=\"http://www.w3.org/1999/xlink\">\r\n <defs>\r\n  <style type=\"text/css\">\r\n*{stroke-linecap:butt;stroke-linejoin:round;}\r\n  </style>\r\n </defs>\r\n <g id=\"figure_1\">\r\n  <g id=\"patch_1\">\r\n   <path d=\"M 0 386.034375 \r\nL 603.579687 386.034375 \r\nL 603.579687 0 \r\nL 0 0 \r\nz\r\n\" style=\"fill:none;\"/>\r\n  </g>\r\n  <g id=\"axes_1\">\r\n   <g id=\"patch_2\">\r\n    <path d=\"M 146.479688 348.478125 \r\nL 592.879688 348.478125 \r\nL 592.879688 22.318125 \r\nL 146.479688 22.318125 \r\nz\r\n\" style=\"fill:#ffffff;\"/>\r\n   </g>\r\n   <g id=\"patch_3\">\r\n    <path clip-path=\"url(#p85bbba4d93)\" d=\"M 146.479688 333.65267 \r\nL 146.479688 333.65267 \r\nL 146.479688 325.692695 \r\nL 146.479688 325.692695 \r\nz\r\n\" style=\"fill:#1f77b4;\"/>\r\n   </g>\r\n   <g id=\"patch_4\">\r\n    <path clip-path=\"url(#p85bbba4d93)\" d=\"M 146.479688 323.702701 \r\nL 359.051116 323.702701 \r\nL 359.051116 315.742725 \r\nL 146.479688 315.742725 \r\nz\r\n\" style=\"fill:#1f77b4;\"/>\r\n   </g>\r\n   <g id=\"patch_5\">\r\n    <path clip-path=\"url(#p85bbba4d93)\" d=\"M 146.479688 313.752731 \r\nL 146.479688 313.752731 \r\nL 146.479688 305.792756 \r\nL 146.479688 305.792756 \r\nz\r\n\" style=\"fill:#1f77b4;\"/>\r\n   </g>\r\n   <g id=\"patch_6\">\r\n    <path clip-path=\"url(#p85bbba4d93)\" d=\"M 146.479688 303.802762 \r\nL 146.479688 303.802762 \r\nL 146.479688 295.842786 \r\nL 146.479688 295.842786 \r\nz\r\n\" style=\"fill:#1f77b4;\"/>\r\n   </g>\r\n   <g id=\"patch_7\">\r\n    <path clip-path=\"url(#p85bbba4d93)\" d=\"M 146.479688 293.852792 \r\nL 146.479688 293.852792 \r\nL 146.479688 285.892817 \r\nL 146.479688 285.892817 \r\nz\r\n\" style=\"fill:#1f77b4;\"/>\r\n   </g>\r\n   <g id=\"patch_8\">\r\n    <path clip-path=\"url(#p85bbba4d93)\" d=\"M 146.479688 283.902823 \r\nL 146.479688 283.902823 \r\nL 146.479688 275.942847 \r\nL 146.479688 275.942847 \r\nz\r\n\" style=\"fill:#1f77b4;\"/>\r\n   </g>\r\n   <g id=\"patch_9\">\r\n    <path clip-path=\"url(#p85bbba4d93)\" d=\"M 146.479688 273.952853 \r\nL 146.479688 273.952853 \r\nL 146.479688 265.992878 \r\nL 146.479688 265.992878 \r\nz\r\n\" style=\"fill:#1f77b4;\"/>\r\n   </g>\r\n   <g id=\"patch_10\">\r\n    <path clip-path=\"url(#p85bbba4d93)\" d=\"M 146.479688 264.002884 \r\nL 146.479688 264.002884 \r\nL 146.479688 256.042908 \r\nL 146.479688 256.042908 \r\nz\r\n\" style=\"fill:#1f77b4;\"/>\r\n   </g>\r\n   <g id=\"patch_11\">\r\n    <path clip-path=\"url(#p85bbba4d93)\" d=\"M 146.479688 254.052915 \r\nL 146.479688 254.052915 \r\nL 146.479688 246.092939 \r\nL 146.479688 246.092939 \r\nz\r\n\" style=\"fill:#1f77b4;\"/>\r\n   </g>\r\n   <g id=\"patch_12\">\r\n    <path clip-path=\"url(#p85bbba4d93)\" d=\"M 146.479688 244.102945 \r\nL 146.479688 244.102945 \r\nL 146.479688 236.142969 \r\nL 146.479688 236.142969 \r\nz\r\n\" style=\"fill:#1f77b4;\"/>\r\n   </g>\r\n   <g id=\"patch_13\">\r\n    <path clip-path=\"url(#p85bbba4d93)\" d=\"M 146.479688 234.152976 \r\nL 146.479688 234.152976 \r\nL 146.479688 226.193 \r\nL 146.479688 226.193 \r\nz\r\n\" style=\"fill:#1f77b4;\"/>\r\n   </g>\r\n   <g id=\"patch_14\">\r\n    <path clip-path=\"url(#p85bbba4d93)\" d=\"M 146.479688 224.203006 \r\nL 146.479688 224.203006 \r\nL 146.479688 216.24303 \r\nL 146.479688 216.24303 \r\nz\r\n\" style=\"fill:#1f77b4;\"/>\r\n   </g>\r\n   <g id=\"patch_15\">\r\n    <path clip-path=\"url(#p85bbba4d93)\" d=\"M 146.479688 214.253037 \r\nL 146.479688 214.253037 \r\nL 146.479688 206.293061 \r\nL 146.479688 206.293061 \r\nz\r\n\" style=\"fill:#1f77b4;\"/>\r\n   </g>\r\n   <g id=\"patch_16\">\r\n    <path clip-path=\"url(#p85bbba4d93)\" d=\"M 146.479688 204.303067 \r\nL 252.765402 204.303067 \r\nL 252.765402 196.343091 \r\nL 146.479688 196.343091 \r\nz\r\n\" style=\"fill:#1f77b4;\"/>\r\n   </g>\r\n   <g id=\"patch_17\">\r\n    <path clip-path=\"url(#p85bbba4d93)\" d=\"M 146.479688 194.353098 \r\nL 146.479688 194.353098 \r\nL 146.479688 186.393122 \r\nL 146.479688 186.393122 \r\nz\r\n\" style=\"fill:#1f77b4;\"/>\r\n   </g>\r\n   <g id=\"patch_18\">\r\n    <path clip-path=\"url(#p85bbba4d93)\" d=\"M 146.479688 184.403128 \r\nL 146.479688 184.403128 \r\nL 146.479688 176.443152 \r\nL 146.479688 176.443152 \r\nz\r\n\" style=\"fill:#1f77b4;\"/>\r\n   </g>\r\n   <g id=\"patch_19\">\r\n    <path clip-path=\"url(#p85bbba4d93)\" d=\"M 146.479688 174.453159 \r\nL 146.479688 174.453159 \r\nL 146.479688 166.493183 \r\nL 146.479688 166.493183 \r\nz\r\n\" style=\"fill:#1f77b4;\"/>\r\n   </g>\r\n   <g id=\"patch_20\">\r\n    <path clip-path=\"url(#p85bbba4d93)\" d=\"M 146.479688 164.503189 \r\nL 146.479688 164.503189 \r\nL 146.479688 156.543213 \r\nL 146.479688 156.543213 \r\nz\r\n\" style=\"fill:#1f77b4;\"/>\r\n   </g>\r\n   <g id=\"patch_21\">\r\n    <path clip-path=\"url(#p85bbba4d93)\" d=\"M 146.479688 154.55322 \r\nL 146.479688 154.55322 \r\nL 146.479688 146.593244 \r\nL 146.479688 146.593244 \r\nz\r\n\" style=\"fill:#1f77b4;\"/>\r\n   </g>\r\n   <g id=\"patch_22\">\r\n    <path clip-path=\"url(#p85bbba4d93)\" d=\"M 146.479688 144.60325 \r\nL 146.479688 144.60325 \r\nL 146.479688 136.643274 \r\nL 146.479688 136.643274 \r\nz\r\n\" style=\"fill:#1f77b4;\"/>\r\n   </g>\r\n   <g id=\"patch_23\">\r\n    <path clip-path=\"url(#p85bbba4d93)\" d=\"M 146.479688 134.653281 \r\nL 252.765402 134.653281 \r\nL 252.765402 126.693305 \r\nL 146.479688 126.693305 \r\nz\r\n\" style=\"fill:#1f77b4;\"/>\r\n   </g>\r\n   <g id=\"patch_24\">\r\n    <path clip-path=\"url(#p85bbba4d93)\" d=\"M 146.479688 124.703311 \r\nL 571.622545 124.703311 \r\nL 571.622545 116.743335 \r\nL 146.479688 116.743335 \r\nz\r\n\" style=\"fill:#1f77b4;\"/>\r\n   </g>\r\n   <g id=\"patch_25\">\r\n    <path clip-path=\"url(#p85bbba4d93)\" d=\"M 146.479688 114.753342 \r\nL 146.479688 114.753342 \r\nL 146.479688 106.793366 \r\nL 146.479688 106.793366 \r\nz\r\n\" style=\"fill:#1f77b4;\"/>\r\n   </g>\r\n   <g id=\"patch_26\">\r\n    <path clip-path=\"url(#p85bbba4d93)\" d=\"M 146.479688 104.803372 \r\nL 359.051116 104.803372 \r\nL 359.051116 96.843397 \r\nL 146.479688 96.843397 \r\nz\r\n\" style=\"fill:#1f77b4;\"/>\r\n   </g>\r\n   <g id=\"patch_27\">\r\n    <path clip-path=\"url(#p85bbba4d93)\" d=\"M 146.479688 94.853403 \r\nL 252.765402 94.853403 \r\nL 252.765402 86.893427 \r\nL 146.479688 86.893427 \r\nz\r\n\" style=\"fill:#1f77b4;\"/>\r\n   </g>\r\n   <g id=\"patch_28\">\r\n    <path clip-path=\"url(#p85bbba4d93)\" d=\"M 146.479688 84.903433 \r\nL 146.479688 84.903433 \r\nL 146.479688 76.943458 \r\nL 146.479688 76.943458 \r\nz\r\n\" style=\"fill:#1f77b4;\"/>\r\n   </g>\r\n   <g id=\"patch_29\">\r\n    <path clip-path=\"url(#p85bbba4d93)\" d=\"M 146.479688 74.953464 \r\nL 252.765402 74.953464 \r\nL 252.765402 66.993488 \r\nL 146.479688 66.993488 \r\nz\r\n\" style=\"fill:#1f77b4;\"/>\r\n   </g>\r\n   <g id=\"patch_30\">\r\n    <path clip-path=\"url(#p85bbba4d93)\" d=\"M 146.479688 65.003494 \r\nL 359.051116 65.003494 \r\nL 359.051116 57.043519 \r\nL 146.479688 57.043519 \r\nz\r\n\" style=\"fill:#1f77b4;\"/>\r\n   </g>\r\n   <g id=\"patch_31\">\r\n    <path clip-path=\"url(#p85bbba4d93)\" d=\"M 146.479688 55.053525 \r\nL 146.479688 55.053525 \r\nL 146.479688 47.093549 \r\nL 146.479688 47.093549 \r\nz\r\n\" style=\"fill:#1f77b4;\"/>\r\n   </g>\r\n   <g id=\"patch_32\">\r\n    <path clip-path=\"url(#p85bbba4d93)\" d=\"M 146.479688 45.103555 \r\nL 359.051116 45.103555 \r\nL 359.051116 37.14358 \r\nL 146.479688 37.14358 \r\nz\r\n\" style=\"fill:#1f77b4;\"/>\r\n   </g>\r\n   <g id=\"matplotlib.axis_1\">\r\n    <g id=\"xtick_1\">\r\n     <g id=\"line2d_1\">\r\n      <defs>\r\n       <path d=\"M 0 0 \r\nL 0 3.5 \r\n\" id=\"m8c192946b2\" style=\"stroke:#000000;stroke-width:0.8;\"/>\r\n      </defs>\r\n      <g>\r\n       <use style=\"stroke:#000000;stroke-width:0.8;\" x=\"146.479688\" xlink:href=\"#m8c192946b2\" y=\"348.478125\"/>\r\n      </g>\r\n     </g>\r\n     <g id=\"text_1\">\r\n      <!-- 0.0 -->\r\n      <defs>\r\n       <path d=\"M 31.78125 66.40625 \r\nQ 24.171875 66.40625 20.328125 58.90625 \r\nQ 16.5 51.421875 16.5 36.375 \r\nQ 16.5 21.390625 20.328125 13.890625 \r\nQ 24.171875 6.390625 31.78125 6.390625 \r\nQ 39.453125 6.390625 43.28125 13.890625 \r\nQ 47.125 21.390625 47.125 36.375 \r\nQ 47.125 51.421875 43.28125 58.90625 \r\nQ 39.453125 66.40625 31.78125 66.40625 \r\nz\r\nM 31.78125 74.21875 \r\nQ 44.046875 74.21875 50.515625 64.515625 \r\nQ 56.984375 54.828125 56.984375 36.375 \r\nQ 56.984375 17.96875 50.515625 8.265625 \r\nQ 44.046875 -1.421875 31.78125 -1.421875 \r\nQ 19.53125 -1.421875 13.0625 8.265625 \r\nQ 6.59375 17.96875 6.59375 36.375 \r\nQ 6.59375 54.828125 13.0625 64.515625 \r\nQ 19.53125 74.21875 31.78125 74.21875 \r\nz\r\n\" id=\"DejaVuSans-30\"/>\r\n       <path d=\"M 10.6875 12.40625 \r\nL 21 12.40625 \r\nL 21 0 \r\nL 10.6875 0 \r\nz\r\n\" id=\"DejaVuSans-2e\"/>\r\n      </defs>\r\n      <g transform=\"translate(138.528125 363.076562)scale(0.1 -0.1)\">\r\n       <use xlink:href=\"#DejaVuSans-30\"/>\r\n       <use x=\"63.623047\" xlink:href=\"#DejaVuSans-2e\"/>\r\n       <use x=\"95.410156\" xlink:href=\"#DejaVuSans-30\"/>\r\n      </g>\r\n     </g>\r\n    </g>\r\n    <g id=\"xtick_2\">\r\n     <g id=\"line2d_2\">\r\n      <g>\r\n       <use style=\"stroke:#000000;stroke-width:0.8;\" x=\"199.622545\" xlink:href=\"#m8c192946b2\" y=\"348.478125\"/>\r\n      </g>\r\n     </g>\r\n     <g id=\"text_2\">\r\n      <!-- 0.5 -->\r\n      <defs>\r\n       <path d=\"M 10.796875 72.90625 \r\nL 49.515625 72.90625 \r\nL 49.515625 64.59375 \r\nL 19.828125 64.59375 \r\nL 19.828125 46.734375 \r\nQ 21.96875 47.46875 24.109375 47.828125 \r\nQ 26.265625 48.1875 28.421875 48.1875 \r\nQ 40.625 48.1875 47.75 41.5 \r\nQ 54.890625 34.8125 54.890625 23.390625 \r\nQ 54.890625 11.625 47.5625 5.09375 \r\nQ 40.234375 -1.421875 26.90625 -1.421875 \r\nQ 22.3125 -1.421875 17.546875 -0.640625 \r\nQ 12.796875 0.140625 7.71875 1.703125 \r\nL 7.71875 11.625 \r\nQ 12.109375 9.234375 16.796875 8.0625 \r\nQ 21.484375 6.890625 26.703125 6.890625 \r\nQ 35.15625 6.890625 40.078125 11.328125 \r\nQ 45.015625 15.765625 45.015625 23.390625 \r\nQ 45.015625 31 40.078125 35.4375 \r\nQ 35.15625 39.890625 26.703125 39.890625 \r\nQ 22.75 39.890625 18.8125 39.015625 \r\nQ 14.890625 38.140625 10.796875 36.28125 \r\nz\r\n\" id=\"DejaVuSans-35\"/>\r\n      </defs>\r\n      <g transform=\"translate(191.670982 363.076562)scale(0.1 -0.1)\">\r\n       <use xlink:href=\"#DejaVuSans-30\"/>\r\n       <use x=\"63.623047\" xlink:href=\"#DejaVuSans-2e\"/>\r\n       <use x=\"95.410156\" xlink:href=\"#DejaVuSans-35\"/>\r\n      </g>\r\n     </g>\r\n    </g>\r\n    <g id=\"xtick_3\">\r\n     <g id=\"line2d_3\">\r\n      <g>\r\n       <use style=\"stroke:#000000;stroke-width:0.8;\" x=\"252.765402\" xlink:href=\"#m8c192946b2\" y=\"348.478125\"/>\r\n      </g>\r\n     </g>\r\n     <g id=\"text_3\">\r\n      <!-- 1.0 -->\r\n      <defs>\r\n       <path d=\"M 12.40625 8.296875 \r\nL 28.515625 8.296875 \r\nL 28.515625 63.921875 \r\nL 10.984375 60.40625 \r\nL 10.984375 69.390625 \r\nL 28.421875 72.90625 \r\nL 38.28125 72.90625 \r\nL 38.28125 8.296875 \r\nL 54.390625 8.296875 \r\nL 54.390625 0 \r\nL 12.40625 0 \r\nz\r\n\" id=\"DejaVuSans-31\"/>\r\n      </defs>\r\n      <g transform=\"translate(244.813839 363.076562)scale(0.1 -0.1)\">\r\n       <use xlink:href=\"#DejaVuSans-31\"/>\r\n       <use x=\"63.623047\" xlink:href=\"#DejaVuSans-2e\"/>\r\n       <use x=\"95.410156\" xlink:href=\"#DejaVuSans-30\"/>\r\n      </g>\r\n     </g>\r\n    </g>\r\n    <g id=\"xtick_4\">\r\n     <g id=\"line2d_4\">\r\n      <g>\r\n       <use style=\"stroke:#000000;stroke-width:0.8;\" x=\"305.908259\" xlink:href=\"#m8c192946b2\" y=\"348.478125\"/>\r\n      </g>\r\n     </g>\r\n     <g id=\"text_4\">\r\n      <!-- 1.5 -->\r\n      <g transform=\"translate(297.956696 363.076562)scale(0.1 -0.1)\">\r\n       <use xlink:href=\"#DejaVuSans-31\"/>\r\n       <use x=\"63.623047\" xlink:href=\"#DejaVuSans-2e\"/>\r\n       <use x=\"95.410156\" xlink:href=\"#DejaVuSans-35\"/>\r\n      </g>\r\n     </g>\r\n    </g>\r\n    <g id=\"xtick_5\">\r\n     <g id=\"line2d_5\">\r\n      <g>\r\n       <use style=\"stroke:#000000;stroke-width:0.8;\" x=\"359.051116\" xlink:href=\"#m8c192946b2\" y=\"348.478125\"/>\r\n      </g>\r\n     </g>\r\n     <g id=\"text_5\">\r\n      <!-- 2.0 -->\r\n      <defs>\r\n       <path d=\"M 19.1875 8.296875 \r\nL 53.609375 8.296875 \r\nL 53.609375 0 \r\nL 7.328125 0 \r\nL 7.328125 8.296875 \r\nQ 12.9375 14.109375 22.625 23.890625 \r\nQ 32.328125 33.6875 34.8125 36.53125 \r\nQ 39.546875 41.84375 41.421875 45.53125 \r\nQ 43.3125 49.21875 43.3125 52.78125 \r\nQ 43.3125 58.59375 39.234375 62.25 \r\nQ 35.15625 65.921875 28.609375 65.921875 \r\nQ 23.96875 65.921875 18.8125 64.3125 \r\nQ 13.671875 62.703125 7.8125 59.421875 \r\nL 7.8125 69.390625 \r\nQ 13.765625 71.78125 18.9375 73 \r\nQ 24.125 74.21875 28.421875 74.21875 \r\nQ 39.75 74.21875 46.484375 68.546875 \r\nQ 53.21875 62.890625 53.21875 53.421875 \r\nQ 53.21875 48.921875 51.53125 44.890625 \r\nQ 49.859375 40.875 45.40625 35.40625 \r\nQ 44.1875 33.984375 37.640625 27.21875 \r\nQ 31.109375 20.453125 19.1875 8.296875 \r\nz\r\n\" id=\"DejaVuSans-32\"/>\r\n      </defs>\r\n      <g transform=\"translate(351.099554 363.076562)scale(0.1 -0.1)\">\r\n       <use xlink:href=\"#DejaVuSans-32\"/>\r\n       <use x=\"63.623047\" xlink:href=\"#DejaVuSans-2e\"/>\r\n       <use x=\"95.410156\" xlink:href=\"#DejaVuSans-30\"/>\r\n      </g>\r\n     </g>\r\n    </g>\r\n    <g id=\"xtick_6\">\r\n     <g id=\"line2d_6\">\r\n      <g>\r\n       <use style=\"stroke:#000000;stroke-width:0.8;\" x=\"412.193973\" xlink:href=\"#m8c192946b2\" y=\"348.478125\"/>\r\n      </g>\r\n     </g>\r\n     <g id=\"text_6\">\r\n      <!-- 2.5 -->\r\n      <g transform=\"translate(404.242411 363.076562)scale(0.1 -0.1)\">\r\n       <use xlink:href=\"#DejaVuSans-32\"/>\r\n       <use x=\"63.623047\" xlink:href=\"#DejaVuSans-2e\"/>\r\n       <use x=\"95.410156\" xlink:href=\"#DejaVuSans-35\"/>\r\n      </g>\r\n     </g>\r\n    </g>\r\n    <g id=\"xtick_7\">\r\n     <g id=\"line2d_7\">\r\n      <g>\r\n       <use style=\"stroke:#000000;stroke-width:0.8;\" x=\"465.33683\" xlink:href=\"#m8c192946b2\" y=\"348.478125\"/>\r\n      </g>\r\n     </g>\r\n     <g id=\"text_7\">\r\n      <!-- 3.0 -->\r\n      <defs>\r\n       <path d=\"M 40.578125 39.3125 \r\nQ 47.65625 37.796875 51.625 33 \r\nQ 55.609375 28.21875 55.609375 21.1875 \r\nQ 55.609375 10.40625 48.1875 4.484375 \r\nQ 40.765625 -1.421875 27.09375 -1.421875 \r\nQ 22.515625 -1.421875 17.65625 -0.515625 \r\nQ 12.796875 0.390625 7.625 2.203125 \r\nL 7.625 11.71875 \r\nQ 11.71875 9.328125 16.59375 8.109375 \r\nQ 21.484375 6.890625 26.8125 6.890625 \r\nQ 36.078125 6.890625 40.9375 10.546875 \r\nQ 45.796875 14.203125 45.796875 21.1875 \r\nQ 45.796875 27.640625 41.28125 31.265625 \r\nQ 36.765625 34.90625 28.71875 34.90625 \r\nL 20.21875 34.90625 \r\nL 20.21875 43.015625 \r\nL 29.109375 43.015625 \r\nQ 36.375 43.015625 40.234375 45.921875 \r\nQ 44.09375 48.828125 44.09375 54.296875 \r\nQ 44.09375 59.90625 40.109375 62.90625 \r\nQ 36.140625 65.921875 28.71875 65.921875 \r\nQ 24.65625 65.921875 20.015625 65.03125 \r\nQ 15.375 64.15625 9.8125 62.3125 \r\nL 9.8125 71.09375 \r\nQ 15.4375 72.65625 20.34375 73.4375 \r\nQ 25.25 74.21875 29.59375 74.21875 \r\nQ 40.828125 74.21875 47.359375 69.109375 \r\nQ 53.90625 64.015625 53.90625 55.328125 \r\nQ 53.90625 49.265625 50.4375 45.09375 \r\nQ 46.96875 40.921875 40.578125 39.3125 \r\nz\r\n\" id=\"DejaVuSans-33\"/>\r\n      </defs>\r\n      <g transform=\"translate(457.385268 363.076562)scale(0.1 -0.1)\">\r\n       <use xlink:href=\"#DejaVuSans-33\"/>\r\n       <use x=\"63.623047\" xlink:href=\"#DejaVuSans-2e\"/>\r\n       <use x=\"95.410156\" xlink:href=\"#DejaVuSans-30\"/>\r\n      </g>\r\n     </g>\r\n    </g>\r\n    <g id=\"xtick_8\">\r\n     <g id=\"line2d_8\">\r\n      <g>\r\n       <use style=\"stroke:#000000;stroke-width:0.8;\" x=\"518.479687\" xlink:href=\"#m8c192946b2\" y=\"348.478125\"/>\r\n      </g>\r\n     </g>\r\n     <g id=\"text_8\">\r\n      <!-- 3.5 -->\r\n      <g transform=\"translate(510.528125 363.076562)scale(0.1 -0.1)\">\r\n       <use xlink:href=\"#DejaVuSans-33\"/>\r\n       <use x=\"63.623047\" xlink:href=\"#DejaVuSans-2e\"/>\r\n       <use x=\"95.410156\" xlink:href=\"#DejaVuSans-35\"/>\r\n      </g>\r\n     </g>\r\n    </g>\r\n    <g id=\"xtick_9\">\r\n     <g id=\"line2d_9\">\r\n      <g>\r\n       <use style=\"stroke:#000000;stroke-width:0.8;\" x=\"571.622545\" xlink:href=\"#m8c192946b2\" y=\"348.478125\"/>\r\n      </g>\r\n     </g>\r\n     <g id=\"text_9\">\r\n      <!-- 4.0 -->\r\n      <defs>\r\n       <path d=\"M 37.796875 64.3125 \r\nL 12.890625 25.390625 \r\nL 37.796875 25.390625 \r\nz\r\nM 35.203125 72.90625 \r\nL 47.609375 72.90625 \r\nL 47.609375 25.390625 \r\nL 58.015625 25.390625 \r\nL 58.015625 17.1875 \r\nL 47.609375 17.1875 \r\nL 47.609375 0 \r\nL 37.796875 0 \r\nL 37.796875 17.1875 \r\nL 4.890625 17.1875 \r\nL 4.890625 26.703125 \r\nz\r\n\" id=\"DejaVuSans-34\"/>\r\n      </defs>\r\n      <g transform=\"translate(563.670982 363.076562)scale(0.1 -0.1)\">\r\n       <use xlink:href=\"#DejaVuSans-34\"/>\r\n       <use x=\"63.623047\" xlink:href=\"#DejaVuSans-2e\"/>\r\n       <use x=\"95.410156\" xlink:href=\"#DejaVuSans-30\"/>\r\n      </g>\r\n     </g>\r\n    </g>\r\n    <g id=\"text_10\">\r\n     <!-- Count -->\r\n     <defs>\r\n      <path d=\"M 64.40625 67.28125 \r\nL 64.40625 56.890625 \r\nQ 59.421875 61.53125 53.78125 63.8125 \r\nQ 48.140625 66.109375 41.796875 66.109375 \r\nQ 29.296875 66.109375 22.65625 58.46875 \r\nQ 16.015625 50.828125 16.015625 36.375 \r\nQ 16.015625 21.96875 22.65625 14.328125 \r\nQ 29.296875 6.6875 41.796875 6.6875 \r\nQ 48.140625 6.6875 53.78125 8.984375 \r\nQ 59.421875 11.28125 64.40625 15.921875 \r\nL 64.40625 5.609375 \r\nQ 59.234375 2.09375 53.4375 0.328125 \r\nQ 47.65625 -1.421875 41.21875 -1.421875 \r\nQ 24.65625 -1.421875 15.125 8.703125 \r\nQ 5.609375 18.84375 5.609375 36.375 \r\nQ 5.609375 53.953125 15.125 64.078125 \r\nQ 24.65625 74.21875 41.21875 74.21875 \r\nQ 47.75 74.21875 53.53125 72.484375 \r\nQ 59.328125 70.75 64.40625 67.28125 \r\nz\r\n\" id=\"DejaVuSans-43\"/>\r\n      <path d=\"M 30.609375 48.390625 \r\nQ 23.390625 48.390625 19.1875 42.75 \r\nQ 14.984375 37.109375 14.984375 27.296875 \r\nQ 14.984375 17.484375 19.15625 11.84375 \r\nQ 23.34375 6.203125 30.609375 6.203125 \r\nQ 37.796875 6.203125 41.984375 11.859375 \r\nQ 46.1875 17.53125 46.1875 27.296875 \r\nQ 46.1875 37.015625 41.984375 42.703125 \r\nQ 37.796875 48.390625 30.609375 48.390625 \r\nz\r\nM 30.609375 56 \r\nQ 42.328125 56 49.015625 48.375 \r\nQ 55.71875 40.765625 55.71875 27.296875 \r\nQ 55.71875 13.875 49.015625 6.21875 \r\nQ 42.328125 -1.421875 30.609375 -1.421875 \r\nQ 18.84375 -1.421875 12.171875 6.21875 \r\nQ 5.515625 13.875 5.515625 27.296875 \r\nQ 5.515625 40.765625 12.171875 48.375 \r\nQ 18.84375 56 30.609375 56 \r\nz\r\n\" id=\"DejaVuSans-6f\"/>\r\n      <path d=\"M 8.5 21.578125 \r\nL 8.5 54.6875 \r\nL 17.484375 54.6875 \r\nL 17.484375 21.921875 \r\nQ 17.484375 14.15625 20.5 10.265625 \r\nQ 23.53125 6.390625 29.59375 6.390625 \r\nQ 36.859375 6.390625 41.078125 11.03125 \r\nQ 45.3125 15.671875 45.3125 23.6875 \r\nL 45.3125 54.6875 \r\nL 54.296875 54.6875 \r\nL 54.296875 0 \r\nL 45.3125 0 \r\nL 45.3125 8.40625 \r\nQ 42.046875 3.421875 37.71875 1 \r\nQ 33.40625 -1.421875 27.6875 -1.421875 \r\nQ 18.265625 -1.421875 13.375 4.4375 \r\nQ 8.5 10.296875 8.5 21.578125 \r\nz\r\nM 31.109375 56 \r\nz\r\n\" id=\"DejaVuSans-75\"/>\r\n      <path d=\"M 54.890625 33.015625 \r\nL 54.890625 0 \r\nL 45.90625 0 \r\nL 45.90625 32.71875 \r\nQ 45.90625 40.484375 42.875 44.328125 \r\nQ 39.84375 48.1875 33.796875 48.1875 \r\nQ 26.515625 48.1875 22.3125 43.546875 \r\nQ 18.109375 38.921875 18.109375 30.90625 \r\nL 18.109375 0 \r\nL 9.078125 0 \r\nL 9.078125 54.6875 \r\nL 18.109375 54.6875 \r\nL 18.109375 46.1875 \r\nQ 21.34375 51.125 25.703125 53.5625 \r\nQ 30.078125 56 35.796875 56 \r\nQ 45.21875 56 50.046875 50.171875 \r\nQ 54.890625 44.34375 54.890625 33.015625 \r\nz\r\n\" id=\"DejaVuSans-6e\"/>\r\n      <path d=\"M 18.3125 70.21875 \r\nL 18.3125 54.6875 \r\nL 36.8125 54.6875 \r\nL 36.8125 47.703125 \r\nL 18.3125 47.703125 \r\nL 18.3125 18.015625 \r\nQ 18.3125 11.328125 20.140625 9.421875 \r\nQ 21.96875 7.515625 27.59375 7.515625 \r\nL 36.8125 7.515625 \r\nL 36.8125 0 \r\nL 27.59375 0 \r\nQ 17.1875 0 13.234375 3.875 \r\nQ 9.28125 7.765625 9.28125 18.015625 \r\nL 9.28125 47.703125 \r\nL 2.6875 47.703125 \r\nL 2.6875 54.6875 \r\nL 9.28125 54.6875 \r\nL 9.28125 70.21875 \r\nz\r\n\" id=\"DejaVuSans-74\"/>\r\n     </defs>\r\n     <g transform=\"translate(354.83125 376.754687)scale(0.1 -0.1)\">\r\n      <use xlink:href=\"#DejaVuSans-43\"/>\r\n      <use x=\"69.824219\" xlink:href=\"#DejaVuSans-6f\"/>\r\n      <use x=\"131.005859\" xlink:href=\"#DejaVuSans-75\"/>\r\n      <use x=\"194.384766\" xlink:href=\"#DejaVuSans-6e\"/>\r\n      <use x=\"257.763672\" xlink:href=\"#DejaVuSans-74\"/>\r\n     </g>\r\n    </g>\r\n   </g>\r\n   <g id=\"matplotlib.axis_2\">\r\n    <g id=\"ytick_1\">\r\n     <g id=\"line2d_10\">\r\n      <defs>\r\n       <path d=\"M 0 0 \r\nL -3.5 0 \r\n\" id=\"m1c786c4a49\" style=\"stroke:#000000;stroke-width:0.8;\"/>\r\n      </defs>\r\n      <g>\r\n       <use style=\"stroke:#000000;stroke-width:0.8;\" x=\"146.479688\" xlink:href=\"#m1c786c4a49\" y=\"329.672683\"/>\r\n      </g>\r\n     </g>\r\n     <g id=\"text_11\">\r\n      <!-- mean radius -->\r\n      <defs>\r\n       <path d=\"M 52 44.1875 \r\nQ 55.375 50.25 60.0625 53.125 \r\nQ 64.75 56 71.09375 56 \r\nQ 79.640625 56 84.28125 50.015625 \r\nQ 88.921875 44.046875 88.921875 33.015625 \r\nL 88.921875 0 \r\nL 79.890625 0 \r\nL 79.890625 32.71875 \r\nQ 79.890625 40.578125 77.09375 44.375 \r\nQ 74.3125 48.1875 68.609375 48.1875 \r\nQ 61.625 48.1875 57.5625 43.546875 \r\nQ 53.515625 38.921875 53.515625 30.90625 \r\nL 53.515625 0 \r\nL 44.484375 0 \r\nL 44.484375 32.71875 \r\nQ 44.484375 40.625 41.703125 44.40625 \r\nQ 38.921875 48.1875 33.109375 48.1875 \r\nQ 26.21875 48.1875 22.15625 43.53125 \r\nQ 18.109375 38.875 18.109375 30.90625 \r\nL 18.109375 0 \r\nL 9.078125 0 \r\nL 9.078125 54.6875 \r\nL 18.109375 54.6875 \r\nL 18.109375 46.1875 \r\nQ 21.1875 51.21875 25.484375 53.609375 \r\nQ 29.78125 56 35.6875 56 \r\nQ 41.65625 56 45.828125 52.96875 \r\nQ 50 49.953125 52 44.1875 \r\nz\r\n\" id=\"DejaVuSans-6d\"/>\r\n       <path d=\"M 56.203125 29.59375 \r\nL 56.203125 25.203125 \r\nL 14.890625 25.203125 \r\nQ 15.484375 15.921875 20.484375 11.0625 \r\nQ 25.484375 6.203125 34.421875 6.203125 \r\nQ 39.59375 6.203125 44.453125 7.46875 \r\nQ 49.3125 8.734375 54.109375 11.28125 \r\nL 54.109375 2.78125 \r\nQ 49.265625 0.734375 44.1875 -0.34375 \r\nQ 39.109375 -1.421875 33.890625 -1.421875 \r\nQ 20.796875 -1.421875 13.15625 6.1875 \r\nQ 5.515625 13.8125 5.515625 26.8125 \r\nQ 5.515625 40.234375 12.765625 48.109375 \r\nQ 20.015625 56 32.328125 56 \r\nQ 43.359375 56 49.78125 48.890625 \r\nQ 56.203125 41.796875 56.203125 29.59375 \r\nz\r\nM 47.21875 32.234375 \r\nQ 47.125 39.59375 43.09375 43.984375 \r\nQ 39.0625 48.390625 32.421875 48.390625 \r\nQ 24.90625 48.390625 20.390625 44.140625 \r\nQ 15.875 39.890625 15.1875 32.171875 \r\nz\r\n\" id=\"DejaVuSans-65\"/>\r\n       <path d=\"M 34.28125 27.484375 \r\nQ 23.390625 27.484375 19.1875 25 \r\nQ 14.984375 22.515625 14.984375 16.5 \r\nQ 14.984375 11.71875 18.140625 8.90625 \r\nQ 21.296875 6.109375 26.703125 6.109375 \r\nQ 34.1875 6.109375 38.703125 11.40625 \r\nQ 43.21875 16.703125 43.21875 25.484375 \r\nL 43.21875 27.484375 \r\nz\r\nM 52.203125 31.203125 \r\nL 52.203125 0 \r\nL 43.21875 0 \r\nL 43.21875 8.296875 \r\nQ 40.140625 3.328125 35.546875 0.953125 \r\nQ 30.953125 -1.421875 24.3125 -1.421875 \r\nQ 15.921875 -1.421875 10.953125 3.296875 \r\nQ 6 8.015625 6 15.921875 \r\nQ 6 25.140625 12.171875 29.828125 \r\nQ 18.359375 34.515625 30.609375 34.515625 \r\nL 43.21875 34.515625 \r\nL 43.21875 35.40625 \r\nQ 43.21875 41.609375 39.140625 45 \r\nQ 35.0625 48.390625 27.6875 48.390625 \r\nQ 23 48.390625 18.546875 47.265625 \r\nQ 14.109375 46.140625 10.015625 43.890625 \r\nL 10.015625 52.203125 \r\nQ 14.9375 54.109375 19.578125 55.046875 \r\nQ 24.21875 56 28.609375 56 \r\nQ 40.484375 56 46.34375 49.84375 \r\nQ 52.203125 43.703125 52.203125 31.203125 \r\nz\r\n\" id=\"DejaVuSans-61\"/>\r\n       <path id=\"DejaVuSans-20\"/>\r\n       <path d=\"M 41.109375 46.296875 \r\nQ 39.59375 47.171875 37.8125 47.578125 \r\nQ 36.03125 48 33.890625 48 \r\nQ 26.265625 48 22.1875 43.046875 \r\nQ 18.109375 38.09375 18.109375 28.8125 \r\nL 18.109375 0 \r\nL 9.078125 0 \r\nL 9.078125 54.6875 \r\nL 18.109375 54.6875 \r\nL 18.109375 46.1875 \r\nQ 20.953125 51.171875 25.484375 53.578125 \r\nQ 30.03125 56 36.53125 56 \r\nQ 37.453125 56 38.578125 55.875 \r\nQ 39.703125 55.765625 41.0625 55.515625 \r\nz\r\n\" id=\"DejaVuSans-72\"/>\r\n       <path d=\"M 45.40625 46.390625 \r\nL 45.40625 75.984375 \r\nL 54.390625 75.984375 \r\nL 54.390625 0 \r\nL 45.40625 0 \r\nL 45.40625 8.203125 \r\nQ 42.578125 3.328125 38.25 0.953125 \r\nQ 33.9375 -1.421875 27.875 -1.421875 \r\nQ 17.96875 -1.421875 11.734375 6.484375 \r\nQ 5.515625 14.40625 5.515625 27.296875 \r\nQ 5.515625 40.1875 11.734375 48.09375 \r\nQ 17.96875 56 27.875 56 \r\nQ 33.9375 56 38.25 53.625 \r\nQ 42.578125 51.265625 45.40625 46.390625 \r\nz\r\nM 14.796875 27.296875 \r\nQ 14.796875 17.390625 18.875 11.75 \r\nQ 22.953125 6.109375 30.078125 6.109375 \r\nQ 37.203125 6.109375 41.296875 11.75 \r\nQ 45.40625 17.390625 45.40625 27.296875 \r\nQ 45.40625 37.203125 41.296875 42.84375 \r\nQ 37.203125 48.484375 30.078125 48.484375 \r\nQ 22.953125 48.484375 18.875 42.84375 \r\nQ 14.796875 37.203125 14.796875 27.296875 \r\nz\r\n\" id=\"DejaVuSans-64\"/>\r\n       <path d=\"M 9.421875 54.6875 \r\nL 18.40625 54.6875 \r\nL 18.40625 0 \r\nL 9.421875 0 \r\nz\r\nM 9.421875 75.984375 \r\nL 18.40625 75.984375 \r\nL 18.40625 64.59375 \r\nL 9.421875 64.59375 \r\nz\r\n\" id=\"DejaVuSans-69\"/>\r\n       <path d=\"M 44.28125 53.078125 \r\nL 44.28125 44.578125 \r\nQ 40.484375 46.53125 36.375 47.5 \r\nQ 32.28125 48.484375 27.875 48.484375 \r\nQ 21.1875 48.484375 17.84375 46.4375 \r\nQ 14.5 44.390625 14.5 40.28125 \r\nQ 14.5 37.15625 16.890625 35.375 \r\nQ 19.28125 33.59375 26.515625 31.984375 \r\nL 29.59375 31.296875 \r\nQ 39.15625 29.25 43.1875 25.515625 \r\nQ 47.21875 21.78125 47.21875 15.09375 \r\nQ 47.21875 7.46875 41.1875 3.015625 \r\nQ 35.15625 -1.421875 24.609375 -1.421875 \r\nQ 20.21875 -1.421875 15.453125 -0.5625 \r\nQ 10.6875 0.296875 5.421875 2 \r\nL 5.421875 11.28125 \r\nQ 10.40625 8.6875 15.234375 7.390625 \r\nQ 20.0625 6.109375 24.8125 6.109375 \r\nQ 31.15625 6.109375 34.5625 8.28125 \r\nQ 37.984375 10.453125 37.984375 14.40625 \r\nQ 37.984375 18.0625 35.515625 20.015625 \r\nQ 33.0625 21.96875 24.703125 23.78125 \r\nL 21.578125 24.515625 \r\nQ 13.234375 26.265625 9.515625 29.90625 \r\nQ 5.8125 33.546875 5.8125 39.890625 \r\nQ 5.8125 47.609375 11.28125 51.796875 \r\nQ 16.75 56 26.8125 56 \r\nQ 31.78125 56 36.171875 55.265625 \r\nQ 40.578125 54.546875 44.28125 53.078125 \r\nz\r\n\" id=\"DejaVuSans-73\"/>\r\n      </defs>\r\n      <g transform=\"translate(77.029688 333.471901)scale(0.1 -0.1)\">\r\n       <use xlink:href=\"#DejaVuSans-6d\"/>\r\n       <use x=\"97.412109\" xlink:href=\"#DejaVuSans-65\"/>\r\n       <use x=\"158.935547\" xlink:href=\"#DejaVuSans-61\"/>\r\n       <use x=\"220.214844\" xlink:href=\"#DejaVuSans-6e\"/>\r\n       <use x=\"283.59375\" xlink:href=\"#DejaVuSans-20\"/>\r\n       <use x=\"315.380859\" xlink:href=\"#DejaVuSans-72\"/>\r\n       <use x=\"356.494141\" xlink:href=\"#DejaVuSans-61\"/>\r\n       <use x=\"417.773438\" xlink:href=\"#DejaVuSans-64\"/>\r\n       <use x=\"481.25\" xlink:href=\"#DejaVuSans-69\"/>\r\n       <use x=\"509.033203\" xlink:href=\"#DejaVuSans-75\"/>\r\n       <use x=\"572.412109\" xlink:href=\"#DejaVuSans-73\"/>\r\n      </g>\r\n     </g>\r\n    </g>\r\n    <g id=\"ytick_2\">\r\n     <g id=\"line2d_11\">\r\n      <g>\r\n       <use style=\"stroke:#000000;stroke-width:0.8;\" x=\"146.479688\" xlink:href=\"#m1c786c4a49\" y=\"319.722713\"/>\r\n      </g>\r\n     </g>\r\n     <g id=\"text_12\">\r\n      <!-- mean texture -->\r\n      <defs>\r\n       <path d=\"M 54.890625 54.6875 \r\nL 35.109375 28.078125 \r\nL 55.90625 0 \r\nL 45.3125 0 \r\nL 29.390625 21.484375 \r\nL 13.484375 0 \r\nL 2.875 0 \r\nL 24.125 28.609375 \r\nL 4.6875 54.6875 \r\nL 15.28125 54.6875 \r\nL 29.78125 35.203125 \r\nL 44.28125 54.6875 \r\nz\r\n\" id=\"DejaVuSans-78\"/>\r\n      </defs>\r\n      <g transform=\"translate(71.432813 323.521932)scale(0.1 -0.1)\">\r\n       <use xlink:href=\"#DejaVuSans-6d\"/>\r\n       <use x=\"97.412109\" xlink:href=\"#DejaVuSans-65\"/>\r\n       <use x=\"158.935547\" xlink:href=\"#DejaVuSans-61\"/>\r\n       <use x=\"220.214844\" xlink:href=\"#DejaVuSans-6e\"/>\r\n       <use x=\"283.59375\" xlink:href=\"#DejaVuSans-20\"/>\r\n       <use x=\"315.380859\" xlink:href=\"#DejaVuSans-74\"/>\r\n       <use x=\"354.589844\" xlink:href=\"#DejaVuSans-65\"/>\r\n       <use x=\"416.097656\" xlink:href=\"#DejaVuSans-78\"/>\r\n       <use x=\"475.277344\" xlink:href=\"#DejaVuSans-74\"/>\r\n       <use x=\"514.486328\" xlink:href=\"#DejaVuSans-75\"/>\r\n       <use x=\"577.865234\" xlink:href=\"#DejaVuSans-72\"/>\r\n       <use x=\"618.947266\" xlink:href=\"#DejaVuSans-65\"/>\r\n      </g>\r\n     </g>\r\n    </g>\r\n    <g id=\"ytick_3\">\r\n     <g id=\"line2d_12\">\r\n      <g>\r\n       <use style=\"stroke:#000000;stroke-width:0.8;\" x=\"146.479688\" xlink:href=\"#m1c786c4a49\" y=\"309.772744\"/>\r\n      </g>\r\n     </g>\r\n     <g id=\"text_13\">\r\n      <!-- mean perimeter -->\r\n      <defs>\r\n       <path d=\"M 18.109375 8.203125 \r\nL 18.109375 -20.796875 \r\nL 9.078125 -20.796875 \r\nL 9.078125 54.6875 \r\nL 18.109375 54.6875 \r\nL 18.109375 46.390625 \r\nQ 20.953125 51.265625 25.265625 53.625 \r\nQ 29.59375 56 35.59375 56 \r\nQ 45.5625 56 51.78125 48.09375 \r\nQ 58.015625 40.1875 58.015625 27.296875 \r\nQ 58.015625 14.40625 51.78125 6.484375 \r\nQ 45.5625 -1.421875 35.59375 -1.421875 \r\nQ 29.59375 -1.421875 25.265625 0.953125 \r\nQ 20.953125 3.328125 18.109375 8.203125 \r\nz\r\nM 48.6875 27.296875 \r\nQ 48.6875 37.203125 44.609375 42.84375 \r\nQ 40.53125 48.484375 33.40625 48.484375 \r\nQ 26.265625 48.484375 22.1875 42.84375 \r\nQ 18.109375 37.203125 18.109375 27.296875 \r\nQ 18.109375 17.390625 22.1875 11.75 \r\nQ 26.265625 6.109375 33.40625 6.109375 \r\nQ 40.53125 6.109375 44.609375 11.75 \r\nQ 48.6875 17.390625 48.6875 27.296875 \r\nz\r\n\" id=\"DejaVuSans-70\"/>\r\n      </defs>\r\n      <g transform=\"translate(58.473438 313.571962)scale(0.1 -0.1)\">\r\n       <use xlink:href=\"#DejaVuSans-6d\"/>\r\n       <use x=\"97.412109\" xlink:href=\"#DejaVuSans-65\"/>\r\n       <use x=\"158.935547\" xlink:href=\"#DejaVuSans-61\"/>\r\n       <use x=\"220.214844\" xlink:href=\"#DejaVuSans-6e\"/>\r\n       <use x=\"283.59375\" xlink:href=\"#DejaVuSans-20\"/>\r\n       <use x=\"315.380859\" xlink:href=\"#DejaVuSans-70\"/>\r\n       <use x=\"378.857422\" xlink:href=\"#DejaVuSans-65\"/>\r\n       <use x=\"440.380859\" xlink:href=\"#DejaVuSans-72\"/>\r\n       <use x=\"481.494141\" xlink:href=\"#DejaVuSans-69\"/>\r\n       <use x=\"509.277344\" xlink:href=\"#DejaVuSans-6d\"/>\r\n       <use x=\"606.689453\" xlink:href=\"#DejaVuSans-65\"/>\r\n       <use x=\"668.212891\" xlink:href=\"#DejaVuSans-74\"/>\r\n       <use x=\"707.421875\" xlink:href=\"#DejaVuSans-65\"/>\r\n       <use x=\"768.945312\" xlink:href=\"#DejaVuSans-72\"/>\r\n      </g>\r\n     </g>\r\n    </g>\r\n    <g id=\"ytick_4\">\r\n     <g id=\"line2d_13\">\r\n      <g>\r\n       <use style=\"stroke:#000000;stroke-width:0.8;\" x=\"146.479688\" xlink:href=\"#m1c786c4a49\" y=\"299.822774\"/>\r\n      </g>\r\n     </g>\r\n     <g id=\"text_14\">\r\n      <!-- mean area -->\r\n      <g transform=\"translate(85.425 303.621993)scale(0.1 -0.1)\">\r\n       <use xlink:href=\"#DejaVuSans-6d\"/>\r\n       <use x=\"97.412109\" xlink:href=\"#DejaVuSans-65\"/>\r\n       <use x=\"158.935547\" xlink:href=\"#DejaVuSans-61\"/>\r\n       <use x=\"220.214844\" xlink:href=\"#DejaVuSans-6e\"/>\r\n       <use x=\"283.59375\" xlink:href=\"#DejaVuSans-20\"/>\r\n       <use x=\"315.380859\" xlink:href=\"#DejaVuSans-61\"/>\r\n       <use x=\"376.660156\" xlink:href=\"#DejaVuSans-72\"/>\r\n       <use x=\"417.742188\" xlink:href=\"#DejaVuSans-65\"/>\r\n       <use x=\"479.265625\" xlink:href=\"#DejaVuSans-61\"/>\r\n      </g>\r\n     </g>\r\n    </g>\r\n    <g id=\"ytick_5\">\r\n     <g id=\"line2d_14\">\r\n      <g>\r\n       <use style=\"stroke:#000000;stroke-width:0.8;\" x=\"146.479688\" xlink:href=\"#m1c786c4a49\" y=\"289.872805\"/>\r\n      </g>\r\n     </g>\r\n     <g id=\"text_15\">\r\n      <!-- mean smoothness -->\r\n      <defs>\r\n       <path d=\"M 54.890625 33.015625 \r\nL 54.890625 0 \r\nL 45.90625 0 \r\nL 45.90625 32.71875 \r\nQ 45.90625 40.484375 42.875 44.328125 \r\nQ 39.84375 48.1875 33.796875 48.1875 \r\nQ 26.515625 48.1875 22.3125 43.546875 \r\nQ 18.109375 38.921875 18.109375 30.90625 \r\nL 18.109375 0 \r\nL 9.078125 0 \r\nL 9.078125 75.984375 \r\nL 18.109375 75.984375 \r\nL 18.109375 46.1875 \r\nQ 21.34375 51.125 25.703125 53.5625 \r\nQ 30.078125 56 35.796875 56 \r\nQ 45.21875 56 50.046875 50.171875 \r\nQ 54.890625 44.34375 54.890625 33.015625 \r\nz\r\n\" id=\"DejaVuSans-68\"/>\r\n      </defs>\r\n      <g transform=\"translate(47.5875 293.672023)scale(0.1 -0.1)\">\r\n       <use xlink:href=\"#DejaVuSans-6d\"/>\r\n       <use x=\"97.412109\" xlink:href=\"#DejaVuSans-65\"/>\r\n       <use x=\"158.935547\" xlink:href=\"#DejaVuSans-61\"/>\r\n       <use x=\"220.214844\" xlink:href=\"#DejaVuSans-6e\"/>\r\n       <use x=\"283.59375\" xlink:href=\"#DejaVuSans-20\"/>\r\n       <use x=\"315.380859\" xlink:href=\"#DejaVuSans-73\"/>\r\n       <use x=\"367.480469\" xlink:href=\"#DejaVuSans-6d\"/>\r\n       <use x=\"464.892578\" xlink:href=\"#DejaVuSans-6f\"/>\r\n       <use x=\"526.074219\" xlink:href=\"#DejaVuSans-6f\"/>\r\n       <use x=\"587.255859\" xlink:href=\"#DejaVuSans-74\"/>\r\n       <use x=\"626.464844\" xlink:href=\"#DejaVuSans-68\"/>\r\n       <use x=\"689.84375\" xlink:href=\"#DejaVuSans-6e\"/>\r\n       <use x=\"753.222656\" xlink:href=\"#DejaVuSans-65\"/>\r\n       <use x=\"814.746094\" xlink:href=\"#DejaVuSans-73\"/>\r\n       <use x=\"866.845703\" xlink:href=\"#DejaVuSans-73\"/>\r\n      </g>\r\n     </g>\r\n    </g>\r\n    <g id=\"ytick_6\">\r\n     <g id=\"line2d_15\">\r\n      <g>\r\n       <use style=\"stroke:#000000;stroke-width:0.8;\" x=\"146.479688\" xlink:href=\"#m1c786c4a49\" y=\"279.922835\"/>\r\n      </g>\r\n     </g>\r\n     <g id=\"text_16\">\r\n      <!-- mean compactness -->\r\n      <defs>\r\n       <path d=\"M 48.78125 52.59375 \r\nL 48.78125 44.1875 \r\nQ 44.96875 46.296875 41.140625 47.34375 \r\nQ 37.3125 48.390625 33.40625 48.390625 \r\nQ 24.65625 48.390625 19.8125 42.84375 \r\nQ 14.984375 37.3125 14.984375 27.296875 \r\nQ 14.984375 17.28125 19.8125 11.734375 \r\nQ 24.65625 6.203125 33.40625 6.203125 \r\nQ 37.3125 6.203125 41.140625 7.25 \r\nQ 44.96875 8.296875 48.78125 10.40625 \r\nL 48.78125 2.09375 \r\nQ 45.015625 0.34375 40.984375 -0.53125 \r\nQ 36.96875 -1.421875 32.421875 -1.421875 \r\nQ 20.0625 -1.421875 12.78125 6.34375 \r\nQ 5.515625 14.109375 5.515625 27.296875 \r\nQ 5.515625 40.671875 12.859375 48.328125 \r\nQ 20.21875 56 33.015625 56 \r\nQ 37.15625 56 41.109375 55.140625 \r\nQ 45.0625 54.296875 48.78125 52.59375 \r\nz\r\n\" id=\"DejaVuSans-63\"/>\r\n      </defs>\r\n      <g transform=\"translate(41.779688 283.722054)scale(0.1 -0.1)\">\r\n       <use xlink:href=\"#DejaVuSans-6d\"/>\r\n       <use x=\"97.412109\" xlink:href=\"#DejaVuSans-65\"/>\r\n       <use x=\"158.935547\" xlink:href=\"#DejaVuSans-61\"/>\r\n       <use x=\"220.214844\" xlink:href=\"#DejaVuSans-6e\"/>\r\n       <use x=\"283.59375\" xlink:href=\"#DejaVuSans-20\"/>\r\n       <use x=\"315.380859\" xlink:href=\"#DejaVuSans-63\"/>\r\n       <use x=\"370.361328\" xlink:href=\"#DejaVuSans-6f\"/>\r\n       <use x=\"431.542969\" xlink:href=\"#DejaVuSans-6d\"/>\r\n       <use x=\"528.955078\" xlink:href=\"#DejaVuSans-70\"/>\r\n       <use x=\"592.431641\" xlink:href=\"#DejaVuSans-61\"/>\r\n       <use x=\"653.710938\" xlink:href=\"#DejaVuSans-63\"/>\r\n       <use x=\"708.691406\" xlink:href=\"#DejaVuSans-74\"/>\r\n       <use x=\"747.900391\" xlink:href=\"#DejaVuSans-6e\"/>\r\n       <use x=\"811.279297\" xlink:href=\"#DejaVuSans-65\"/>\r\n       <use x=\"872.802734\" xlink:href=\"#DejaVuSans-73\"/>\r\n       <use x=\"924.902344\" xlink:href=\"#DejaVuSans-73\"/>\r\n      </g>\r\n     </g>\r\n    </g>\r\n    <g id=\"ytick_7\">\r\n     <g id=\"line2d_16\">\r\n      <g>\r\n       <use style=\"stroke:#000000;stroke-width:0.8;\" x=\"146.479688\" xlink:href=\"#m1c786c4a49\" y=\"269.972866\"/>\r\n      </g>\r\n     </g>\r\n     <g id=\"text_17\">\r\n      <!-- mean concavity -->\r\n      <defs>\r\n       <path d=\"M 2.984375 54.6875 \r\nL 12.5 54.6875 \r\nL 29.59375 8.796875 \r\nL 46.6875 54.6875 \r\nL 56.203125 54.6875 \r\nL 35.6875 0 \r\nL 23.484375 0 \r\nz\r\n\" id=\"DejaVuSans-76\"/>\r\n       <path d=\"M 32.171875 -5.078125 \r\nQ 28.375 -14.84375 24.75 -17.8125 \r\nQ 21.140625 -20.796875 15.09375 -20.796875 \r\nL 7.90625 -20.796875 \r\nL 7.90625 -13.28125 \r\nL 13.1875 -13.28125 \r\nQ 16.890625 -13.28125 18.9375 -11.515625 \r\nQ 21 -9.765625 23.484375 -3.21875 \r\nL 25.09375 0.875 \r\nL 2.984375 54.6875 \r\nL 12.5 54.6875 \r\nL 29.59375 11.921875 \r\nL 46.6875 54.6875 \r\nL 56.203125 54.6875 \r\nz\r\n\" id=\"DejaVuSans-79\"/>\r\n      </defs>\r\n      <g transform=\"translate(59.825 273.772084)scale(0.1 -0.1)\">\r\n       <use xlink:href=\"#DejaVuSans-6d\"/>\r\n       <use x=\"97.412109\" xlink:href=\"#DejaVuSans-65\"/>\r\n       <use x=\"158.935547\" xlink:href=\"#DejaVuSans-61\"/>\r\n       <use x=\"220.214844\" xlink:href=\"#DejaVuSans-6e\"/>\r\n       <use x=\"283.59375\" xlink:href=\"#DejaVuSans-20\"/>\r\n       <use x=\"315.380859\" xlink:href=\"#DejaVuSans-63\"/>\r\n       <use x=\"370.361328\" xlink:href=\"#DejaVuSans-6f\"/>\r\n       <use x=\"431.542969\" xlink:href=\"#DejaVuSans-6e\"/>\r\n       <use x=\"494.921875\" xlink:href=\"#DejaVuSans-63\"/>\r\n       <use x=\"549.902344\" xlink:href=\"#DejaVuSans-61\"/>\r\n       <use x=\"611.181641\" xlink:href=\"#DejaVuSans-76\"/>\r\n       <use x=\"670.361328\" xlink:href=\"#DejaVuSans-69\"/>\r\n       <use x=\"698.144531\" xlink:href=\"#DejaVuSans-74\"/>\r\n       <use x=\"737.353516\" xlink:href=\"#DejaVuSans-79\"/>\r\n      </g>\r\n     </g>\r\n    </g>\r\n    <g id=\"ytick_8\">\r\n     <g id=\"line2d_17\">\r\n      <g>\r\n       <use style=\"stroke:#000000;stroke-width:0.8;\" x=\"146.479688\" xlink:href=\"#m1c786c4a49\" y=\"260.022896\"/>\r\n      </g>\r\n     </g>\r\n     <g id=\"text_18\">\r\n      <!-- mean concave points -->\r\n      <g transform=\"translate(32.398438 263.822115)scale(0.1 -0.1)\">\r\n       <use xlink:href=\"#DejaVuSans-6d\"/>\r\n       <use x=\"97.412109\" xlink:href=\"#DejaVuSans-65\"/>\r\n       <use x=\"158.935547\" xlink:href=\"#DejaVuSans-61\"/>\r\n       <use x=\"220.214844\" xlink:href=\"#DejaVuSans-6e\"/>\r\n       <use x=\"283.59375\" xlink:href=\"#DejaVuSans-20\"/>\r\n       <use x=\"315.380859\" xlink:href=\"#DejaVuSans-63\"/>\r\n       <use x=\"370.361328\" xlink:href=\"#DejaVuSans-6f\"/>\r\n       <use x=\"431.542969\" xlink:href=\"#DejaVuSans-6e\"/>\r\n       <use x=\"494.921875\" xlink:href=\"#DejaVuSans-63\"/>\r\n       <use x=\"549.902344\" xlink:href=\"#DejaVuSans-61\"/>\r\n       <use x=\"611.181641\" xlink:href=\"#DejaVuSans-76\"/>\r\n       <use x=\"670.361328\" xlink:href=\"#DejaVuSans-65\"/>\r\n       <use x=\"731.884766\" xlink:href=\"#DejaVuSans-20\"/>\r\n       <use x=\"763.671875\" xlink:href=\"#DejaVuSans-70\"/>\r\n       <use x=\"827.148438\" xlink:href=\"#DejaVuSans-6f\"/>\r\n       <use x=\"888.330078\" xlink:href=\"#DejaVuSans-69\"/>\r\n       <use x=\"916.113281\" xlink:href=\"#DejaVuSans-6e\"/>\r\n       <use x=\"979.492188\" xlink:href=\"#DejaVuSans-74\"/>\r\n       <use x=\"1018.701172\" xlink:href=\"#DejaVuSans-73\"/>\r\n      </g>\r\n     </g>\r\n    </g>\r\n    <g id=\"ytick_9\">\r\n     <g id=\"line2d_18\">\r\n      <g>\r\n       <use style=\"stroke:#000000;stroke-width:0.8;\" x=\"146.479688\" xlink:href=\"#m1c786c4a49\" y=\"250.072927\"/>\r\n      </g>\r\n     </g>\r\n     <g id=\"text_19\">\r\n      <!-- mean symmetry -->\r\n      <g transform=\"translate(57.229688 253.872145)scale(0.1 -0.1)\">\r\n       <use xlink:href=\"#DejaVuSans-6d\"/>\r\n       <use x=\"97.412109\" xlink:href=\"#DejaVuSans-65\"/>\r\n       <use x=\"158.935547\" xlink:href=\"#DejaVuSans-61\"/>\r\n       <use x=\"220.214844\" xlink:href=\"#DejaVuSans-6e\"/>\r\n       <use x=\"283.59375\" xlink:href=\"#DejaVuSans-20\"/>\r\n       <use x=\"315.380859\" xlink:href=\"#DejaVuSans-73\"/>\r\n       <use x=\"367.480469\" xlink:href=\"#DejaVuSans-79\"/>\r\n       <use x=\"426.660156\" xlink:href=\"#DejaVuSans-6d\"/>\r\n       <use x=\"524.072266\" xlink:href=\"#DejaVuSans-6d\"/>\r\n       <use x=\"621.484375\" xlink:href=\"#DejaVuSans-65\"/>\r\n       <use x=\"683.007812\" xlink:href=\"#DejaVuSans-74\"/>\r\n       <use x=\"722.216797\" xlink:href=\"#DejaVuSans-72\"/>\r\n       <use x=\"763.330078\" xlink:href=\"#DejaVuSans-79\"/>\r\n      </g>\r\n     </g>\r\n    </g>\r\n    <g id=\"ytick_10\">\r\n     <g id=\"line2d_19\">\r\n      <g>\r\n       <use style=\"stroke:#000000;stroke-width:0.8;\" x=\"146.479688\" xlink:href=\"#m1c786c4a49\" y=\"240.122957\"/>\r\n      </g>\r\n     </g>\r\n     <g id=\"text_20\">\r\n      <!-- mean fractal dimension -->\r\n      <defs>\r\n       <path d=\"M 37.109375 75.984375 \r\nL 37.109375 68.5 \r\nL 28.515625 68.5 \r\nQ 23.6875 68.5 21.796875 66.546875 \r\nQ 19.921875 64.59375 19.921875 59.515625 \r\nL 19.921875 54.6875 \r\nL 34.71875 54.6875 \r\nL 34.71875 47.703125 \r\nL 19.921875 47.703125 \r\nL 19.921875 0 \r\nL 10.890625 0 \r\nL 10.890625 47.703125 \r\nL 2.296875 47.703125 \r\nL 2.296875 54.6875 \r\nL 10.890625 54.6875 \r\nL 10.890625 58.5 \r\nQ 10.890625 67.625 15.140625 71.796875 \r\nQ 19.390625 75.984375 28.609375 75.984375 \r\nz\r\n\" id=\"DejaVuSans-66\"/>\r\n       <path d=\"M 9.421875 75.984375 \r\nL 18.40625 75.984375 \r\nL 18.40625 0 \r\nL 9.421875 0 \r\nz\r\n\" id=\"DejaVuSans-6c\"/>\r\n      </defs>\r\n      <g transform=\"translate(20.878125 243.922176)scale(0.1 -0.1)\">\r\n       <use xlink:href=\"#DejaVuSans-6d\"/>\r\n       <use x=\"97.412109\" xlink:href=\"#DejaVuSans-65\"/>\r\n       <use x=\"158.935547\" xlink:href=\"#DejaVuSans-61\"/>\r\n       <use x=\"220.214844\" xlink:href=\"#DejaVuSans-6e\"/>\r\n       <use x=\"283.59375\" xlink:href=\"#DejaVuSans-20\"/>\r\n       <use x=\"315.380859\" xlink:href=\"#DejaVuSans-66\"/>\r\n       <use x=\"350.585938\" xlink:href=\"#DejaVuSans-72\"/>\r\n       <use x=\"391.699219\" xlink:href=\"#DejaVuSans-61\"/>\r\n       <use x=\"452.978516\" xlink:href=\"#DejaVuSans-63\"/>\r\n       <use x=\"507.958984\" xlink:href=\"#DejaVuSans-74\"/>\r\n       <use x=\"547.167969\" xlink:href=\"#DejaVuSans-61\"/>\r\n       <use x=\"608.447266\" xlink:href=\"#DejaVuSans-6c\"/>\r\n       <use x=\"636.230469\" xlink:href=\"#DejaVuSans-20\"/>\r\n       <use x=\"668.017578\" xlink:href=\"#DejaVuSans-64\"/>\r\n       <use x=\"731.494141\" xlink:href=\"#DejaVuSans-69\"/>\r\n       <use x=\"759.277344\" xlink:href=\"#DejaVuSans-6d\"/>\r\n       <use x=\"856.689453\" xlink:href=\"#DejaVuSans-65\"/>\r\n       <use x=\"918.212891\" xlink:href=\"#DejaVuSans-6e\"/>\r\n       <use x=\"981.591797\" xlink:href=\"#DejaVuSans-73\"/>\r\n       <use x=\"1033.691406\" xlink:href=\"#DejaVuSans-69\"/>\r\n       <use x=\"1061.474609\" xlink:href=\"#DejaVuSans-6f\"/>\r\n       <use x=\"1122.65625\" xlink:href=\"#DejaVuSans-6e\"/>\r\n      </g>\r\n     </g>\r\n    </g>\r\n    <g id=\"ytick_11\">\r\n     <g id=\"line2d_20\">\r\n      <g>\r\n       <use style=\"stroke:#000000;stroke-width:0.8;\" x=\"146.479688\" xlink:href=\"#m1c786c4a49\" y=\"230.172988\"/>\r\n      </g>\r\n     </g>\r\n     <g id=\"text_21\">\r\n      <!-- radius error -->\r\n      <g transform=\"translate(80.789062 233.972206)scale(0.1 -0.1)\">\r\n       <use xlink:href=\"#DejaVuSans-72\"/>\r\n       <use x=\"41.113281\" xlink:href=\"#DejaVuSans-61\"/>\r\n       <use x=\"102.392578\" xlink:href=\"#DejaVuSans-64\"/>\r\n       <use x=\"165.869141\" xlink:href=\"#DejaVuSans-69\"/>\r\n       <use x=\"193.652344\" xlink:href=\"#DejaVuSans-75\"/>\r\n       <use x=\"257.03125\" xlink:href=\"#DejaVuSans-73\"/>\r\n       <use x=\"309.130859\" xlink:href=\"#DejaVuSans-20\"/>\r\n       <use x=\"340.917969\" xlink:href=\"#DejaVuSans-65\"/>\r\n       <use x=\"402.441406\" xlink:href=\"#DejaVuSans-72\"/>\r\n       <use x=\"443.539062\" xlink:href=\"#DejaVuSans-72\"/>\r\n       <use x=\"484.621094\" xlink:href=\"#DejaVuSans-6f\"/>\r\n       <use x=\"545.802734\" xlink:href=\"#DejaVuSans-72\"/>\r\n      </g>\r\n     </g>\r\n    </g>\r\n    <g id=\"ytick_12\">\r\n     <g id=\"line2d_21\">\r\n      <g>\r\n       <use style=\"stroke:#000000;stroke-width:0.8;\" x=\"146.479688\" xlink:href=\"#m1c786c4a49\" y=\"220.223018\"/>\r\n      </g>\r\n     </g>\r\n     <g id=\"text_22\">\r\n      <!-- texture error -->\r\n      <g transform=\"translate(75.192188 224.022237)scale(0.1 -0.1)\">\r\n       <use xlink:href=\"#DejaVuSans-74\"/>\r\n       <use x=\"39.208984\" xlink:href=\"#DejaVuSans-65\"/>\r\n       <use x=\"100.716797\" xlink:href=\"#DejaVuSans-78\"/>\r\n       <use x=\"159.896484\" xlink:href=\"#DejaVuSans-74\"/>\r\n       <use x=\"199.105469\" xlink:href=\"#DejaVuSans-75\"/>\r\n       <use x=\"262.484375\" xlink:href=\"#DejaVuSans-72\"/>\r\n       <use x=\"303.566406\" xlink:href=\"#DejaVuSans-65\"/>\r\n       <use x=\"365.089844\" xlink:href=\"#DejaVuSans-20\"/>\r\n       <use x=\"396.876953\" xlink:href=\"#DejaVuSans-65\"/>\r\n       <use x=\"458.400391\" xlink:href=\"#DejaVuSans-72\"/>\r\n       <use x=\"499.498047\" xlink:href=\"#DejaVuSans-72\"/>\r\n       <use x=\"540.580078\" xlink:href=\"#DejaVuSans-6f\"/>\r\n       <use x=\"601.761719\" xlink:href=\"#DejaVuSans-72\"/>\r\n      </g>\r\n     </g>\r\n    </g>\r\n    <g id=\"ytick_13\">\r\n     <g id=\"line2d_22\">\r\n      <g>\r\n       <use style=\"stroke:#000000;stroke-width:0.8;\" x=\"146.479688\" xlink:href=\"#m1c786c4a49\" y=\"210.273049\"/>\r\n      </g>\r\n     </g>\r\n     <g id=\"text_23\">\r\n      <!-- perimeter error -->\r\n      <g transform=\"translate(62.232813 214.072267)scale(0.1 -0.1)\">\r\n       <use xlink:href=\"#DejaVuSans-70\"/>\r\n       <use x=\"63.476562\" xlink:href=\"#DejaVuSans-65\"/>\r\n       <use x=\"125\" xlink:href=\"#DejaVuSans-72\"/>\r\n       <use x=\"166.113281\" xlink:href=\"#DejaVuSans-69\"/>\r\n       <use x=\"193.896484\" xlink:href=\"#DejaVuSans-6d\"/>\r\n       <use x=\"291.308594\" xlink:href=\"#DejaVuSans-65\"/>\r\n       <use x=\"352.832031\" xlink:href=\"#DejaVuSans-74\"/>\r\n       <use x=\"392.041016\" xlink:href=\"#DejaVuSans-65\"/>\r\n       <use x=\"453.564453\" xlink:href=\"#DejaVuSans-72\"/>\r\n       <use x=\"494.677734\" xlink:href=\"#DejaVuSans-20\"/>\r\n       <use x=\"526.464844\" xlink:href=\"#DejaVuSans-65\"/>\r\n       <use x=\"587.988281\" xlink:href=\"#DejaVuSans-72\"/>\r\n       <use x=\"629.085938\" xlink:href=\"#DejaVuSans-72\"/>\r\n       <use x=\"670.167969\" xlink:href=\"#DejaVuSans-6f\"/>\r\n       <use x=\"731.349609\" xlink:href=\"#DejaVuSans-72\"/>\r\n      </g>\r\n     </g>\r\n    </g>\r\n    <g id=\"ytick_14\">\r\n     <g id=\"line2d_23\">\r\n      <g>\r\n       <use style=\"stroke:#000000;stroke-width:0.8;\" x=\"146.479688\" xlink:href=\"#m1c786c4a49\" y=\"200.323079\"/>\r\n      </g>\r\n     </g>\r\n     <g id=\"text_24\">\r\n      <!-- area error -->\r\n      <g transform=\"translate(89.184375 204.122298)scale(0.1 -0.1)\">\r\n       <use xlink:href=\"#DejaVuSans-61\"/>\r\n       <use x=\"61.279297\" xlink:href=\"#DejaVuSans-72\"/>\r\n       <use x=\"102.361328\" xlink:href=\"#DejaVuSans-65\"/>\r\n       <use x=\"163.884766\" xlink:href=\"#DejaVuSans-61\"/>\r\n       <use x=\"225.164062\" xlink:href=\"#DejaVuSans-20\"/>\r\n       <use x=\"256.951172\" xlink:href=\"#DejaVuSans-65\"/>\r\n       <use x=\"318.474609\" xlink:href=\"#DejaVuSans-72\"/>\r\n       <use x=\"359.572266\" xlink:href=\"#DejaVuSans-72\"/>\r\n       <use x=\"400.654297\" xlink:href=\"#DejaVuSans-6f\"/>\r\n       <use x=\"461.835938\" xlink:href=\"#DejaVuSans-72\"/>\r\n      </g>\r\n     </g>\r\n    </g>\r\n    <g id=\"ytick_15\">\r\n     <g id=\"line2d_24\">\r\n      <g>\r\n       <use style=\"stroke:#000000;stroke-width:0.8;\" x=\"146.479688\" xlink:href=\"#m1c786c4a49\" y=\"190.37311\"/>\r\n      </g>\r\n     </g>\r\n     <g id=\"text_25\">\r\n      <!-- smoothness error -->\r\n      <g transform=\"translate(51.346875 194.172328)scale(0.1 -0.1)\">\r\n       <use xlink:href=\"#DejaVuSans-73\"/>\r\n       <use x=\"52.099609\" xlink:href=\"#DejaVuSans-6d\"/>\r\n       <use x=\"149.511719\" xlink:href=\"#DejaVuSans-6f\"/>\r\n       <use x=\"210.693359\" xlink:href=\"#DejaVuSans-6f\"/>\r\n       <use x=\"271.875\" xlink:href=\"#DejaVuSans-74\"/>\r\n       <use x=\"311.083984\" xlink:href=\"#DejaVuSans-68\"/>\r\n       <use x=\"374.462891\" xlink:href=\"#DejaVuSans-6e\"/>\r\n       <use x=\"437.841797\" xlink:href=\"#DejaVuSans-65\"/>\r\n       <use x=\"499.365234\" xlink:href=\"#DejaVuSans-73\"/>\r\n       <use x=\"551.464844\" xlink:href=\"#DejaVuSans-73\"/>\r\n       <use x=\"603.564453\" xlink:href=\"#DejaVuSans-20\"/>\r\n       <use x=\"635.351562\" xlink:href=\"#DejaVuSans-65\"/>\r\n       <use x=\"696.875\" xlink:href=\"#DejaVuSans-72\"/>\r\n       <use x=\"737.972656\" xlink:href=\"#DejaVuSans-72\"/>\r\n       <use x=\"779.054688\" xlink:href=\"#DejaVuSans-6f\"/>\r\n       <use x=\"840.236328\" xlink:href=\"#DejaVuSans-72\"/>\r\n      </g>\r\n     </g>\r\n    </g>\r\n    <g id=\"ytick_16\">\r\n     <g id=\"line2d_25\">\r\n      <g>\r\n       <use style=\"stroke:#000000;stroke-width:0.8;\" x=\"146.479688\" xlink:href=\"#m1c786c4a49\" y=\"180.42314\"/>\r\n      </g>\r\n     </g>\r\n     <g id=\"text_26\">\r\n      <!-- compactness error -->\r\n      <g transform=\"translate(45.539062 184.222359)scale(0.1 -0.1)\">\r\n       <use xlink:href=\"#DejaVuSans-63\"/>\r\n       <use x=\"54.980469\" xlink:href=\"#DejaVuSans-6f\"/>\r\n       <use x=\"116.162109\" xlink:href=\"#DejaVuSans-6d\"/>\r\n       <use x=\"213.574219\" xlink:href=\"#DejaVuSans-70\"/>\r\n       <use x=\"277.050781\" xlink:href=\"#DejaVuSans-61\"/>\r\n       <use x=\"338.330078\" xlink:href=\"#DejaVuSans-63\"/>\r\n       <use x=\"393.310547\" xlink:href=\"#DejaVuSans-74\"/>\r\n       <use x=\"432.519531\" xlink:href=\"#DejaVuSans-6e\"/>\r\n       <use x=\"495.898438\" xlink:href=\"#DejaVuSans-65\"/>\r\n       <use x=\"557.421875\" xlink:href=\"#DejaVuSans-73\"/>\r\n       <use x=\"609.521484\" xlink:href=\"#DejaVuSans-73\"/>\r\n       <use x=\"661.621094\" xlink:href=\"#DejaVuSans-20\"/>\r\n       <use x=\"693.408203\" xlink:href=\"#DejaVuSans-65\"/>\r\n       <use x=\"754.931641\" xlink:href=\"#DejaVuSans-72\"/>\r\n       <use x=\"796.029297\" xlink:href=\"#DejaVuSans-72\"/>\r\n       <use x=\"837.111328\" xlink:href=\"#DejaVuSans-6f\"/>\r\n       <use x=\"898.292969\" xlink:href=\"#DejaVuSans-72\"/>\r\n      </g>\r\n     </g>\r\n    </g>\r\n    <g id=\"ytick_17\">\r\n     <g id=\"line2d_26\">\r\n      <g>\r\n       <use style=\"stroke:#000000;stroke-width:0.8;\" x=\"146.479688\" xlink:href=\"#m1c786c4a49\" y=\"170.473171\"/>\r\n      </g>\r\n     </g>\r\n     <g id=\"text_27\">\r\n      <!-- concavity error -->\r\n      <g transform=\"translate(63.584375 174.27239)scale(0.1 -0.1)\">\r\n       <use xlink:href=\"#DejaVuSans-63\"/>\r\n       <use x=\"54.980469\" xlink:href=\"#DejaVuSans-6f\"/>\r\n       <use x=\"116.162109\" xlink:href=\"#DejaVuSans-6e\"/>\r\n       <use x=\"179.541016\" xlink:href=\"#DejaVuSans-63\"/>\r\n       <use x=\"234.521484\" xlink:href=\"#DejaVuSans-61\"/>\r\n       <use x=\"295.800781\" xlink:href=\"#DejaVuSans-76\"/>\r\n       <use x=\"354.980469\" xlink:href=\"#DejaVuSans-69\"/>\r\n       <use x=\"382.763672\" xlink:href=\"#DejaVuSans-74\"/>\r\n       <use x=\"421.972656\" xlink:href=\"#DejaVuSans-79\"/>\r\n       <use x=\"481.152344\" xlink:href=\"#DejaVuSans-20\"/>\r\n       <use x=\"512.939453\" xlink:href=\"#DejaVuSans-65\"/>\r\n       <use x=\"574.462891\" xlink:href=\"#DejaVuSans-72\"/>\r\n       <use x=\"615.560547\" xlink:href=\"#DejaVuSans-72\"/>\r\n       <use x=\"656.642578\" xlink:href=\"#DejaVuSans-6f\"/>\r\n       <use x=\"717.824219\" xlink:href=\"#DejaVuSans-72\"/>\r\n      </g>\r\n     </g>\r\n    </g>\r\n    <g id=\"ytick_18\">\r\n     <g id=\"line2d_27\">\r\n      <g>\r\n       <use style=\"stroke:#000000;stroke-width:0.8;\" x=\"146.479688\" xlink:href=\"#m1c786c4a49\" y=\"160.523201\"/>\r\n      </g>\r\n     </g>\r\n     <g id=\"text_28\">\r\n      <!-- concave points error -->\r\n      <g transform=\"translate(36.157813 164.32242)scale(0.1 -0.1)\">\r\n       <use xlink:href=\"#DejaVuSans-63\"/>\r\n       <use x=\"54.980469\" xlink:href=\"#DejaVuSans-6f\"/>\r\n       <use x=\"116.162109\" xlink:href=\"#DejaVuSans-6e\"/>\r\n       <use x=\"179.541016\" xlink:href=\"#DejaVuSans-63\"/>\r\n       <use x=\"234.521484\" xlink:href=\"#DejaVuSans-61\"/>\r\n       <use x=\"295.800781\" xlink:href=\"#DejaVuSans-76\"/>\r\n       <use x=\"354.980469\" xlink:href=\"#DejaVuSans-65\"/>\r\n       <use x=\"416.503906\" xlink:href=\"#DejaVuSans-20\"/>\r\n       <use x=\"448.291016\" xlink:href=\"#DejaVuSans-70\"/>\r\n       <use x=\"511.767578\" xlink:href=\"#DejaVuSans-6f\"/>\r\n       <use x=\"572.949219\" xlink:href=\"#DejaVuSans-69\"/>\r\n       <use x=\"600.732422\" xlink:href=\"#DejaVuSans-6e\"/>\r\n       <use x=\"664.111328\" xlink:href=\"#DejaVuSans-74\"/>\r\n       <use x=\"703.320312\" xlink:href=\"#DejaVuSans-73\"/>\r\n       <use x=\"755.419922\" xlink:href=\"#DejaVuSans-20\"/>\r\n       <use x=\"787.207031\" xlink:href=\"#DejaVuSans-65\"/>\r\n       <use x=\"848.730469\" xlink:href=\"#DejaVuSans-72\"/>\r\n       <use x=\"889.828125\" xlink:href=\"#DejaVuSans-72\"/>\r\n       <use x=\"930.910156\" xlink:href=\"#DejaVuSans-6f\"/>\r\n       <use x=\"992.091797\" xlink:href=\"#DejaVuSans-72\"/>\r\n      </g>\r\n     </g>\r\n    </g>\r\n    <g id=\"ytick_19\">\r\n     <g id=\"line2d_28\">\r\n      <g>\r\n       <use style=\"stroke:#000000;stroke-width:0.8;\" x=\"146.479688\" xlink:href=\"#m1c786c4a49\" y=\"150.573232\"/>\r\n      </g>\r\n     </g>\r\n     <g id=\"text_29\">\r\n      <!-- symmetry error -->\r\n      <g transform=\"translate(60.989063 154.372451)scale(0.1 -0.1)\">\r\n       <use xlink:href=\"#DejaVuSans-73\"/>\r\n       <use x=\"52.099609\" xlink:href=\"#DejaVuSans-79\"/>\r\n       <use x=\"111.279297\" xlink:href=\"#DejaVuSans-6d\"/>\r\n       <use x=\"208.691406\" xlink:href=\"#DejaVuSans-6d\"/>\r\n       <use x=\"306.103516\" xlink:href=\"#DejaVuSans-65\"/>\r\n       <use x=\"367.626953\" xlink:href=\"#DejaVuSans-74\"/>\r\n       <use x=\"406.835938\" xlink:href=\"#DejaVuSans-72\"/>\r\n       <use x=\"447.949219\" xlink:href=\"#DejaVuSans-79\"/>\r\n       <use x=\"507.128906\" xlink:href=\"#DejaVuSans-20\"/>\r\n       <use x=\"538.916016\" xlink:href=\"#DejaVuSans-65\"/>\r\n       <use x=\"600.439453\" xlink:href=\"#DejaVuSans-72\"/>\r\n       <use x=\"641.537109\" xlink:href=\"#DejaVuSans-72\"/>\r\n       <use x=\"682.619141\" xlink:href=\"#DejaVuSans-6f\"/>\r\n       <use x=\"743.800781\" xlink:href=\"#DejaVuSans-72\"/>\r\n      </g>\r\n     </g>\r\n    </g>\r\n    <g id=\"ytick_20\">\r\n     <g id=\"line2d_29\">\r\n      <g>\r\n       <use style=\"stroke:#000000;stroke-width:0.8;\" x=\"146.479688\" xlink:href=\"#m1c786c4a49\" y=\"140.623262\"/>\r\n      </g>\r\n     </g>\r\n     <g id=\"text_30\">\r\n      <!-- fractal dimension error -->\r\n      <g transform=\"translate(24.6375 144.422481)scale(0.1 -0.1)\">\r\n       <use xlink:href=\"#DejaVuSans-66\"/>\r\n       <use x=\"35.205078\" xlink:href=\"#DejaVuSans-72\"/>\r\n       <use x=\"76.318359\" xlink:href=\"#DejaVuSans-61\"/>\r\n       <use x=\"137.597656\" xlink:href=\"#DejaVuSans-63\"/>\r\n       <use x=\"192.578125\" xlink:href=\"#DejaVuSans-74\"/>\r\n       <use x=\"231.787109\" xlink:href=\"#DejaVuSans-61\"/>\r\n       <use x=\"293.066406\" xlink:href=\"#DejaVuSans-6c\"/>\r\n       <use x=\"320.849609\" xlink:href=\"#DejaVuSans-20\"/>\r\n       <use x=\"352.636719\" xlink:href=\"#DejaVuSans-64\"/>\r\n       <use x=\"416.113281\" xlink:href=\"#DejaVuSans-69\"/>\r\n       <use x=\"443.896484\" xlink:href=\"#DejaVuSans-6d\"/>\r\n       <use x=\"541.308594\" xlink:href=\"#DejaVuSans-65\"/>\r\n       <use x=\"602.832031\" xlink:href=\"#DejaVuSans-6e\"/>\r\n       <use x=\"666.210938\" xlink:href=\"#DejaVuSans-73\"/>\r\n       <use x=\"718.310547\" xlink:href=\"#DejaVuSans-69\"/>\r\n       <use x=\"746.09375\" xlink:href=\"#DejaVuSans-6f\"/>\r\n       <use x=\"807.275391\" xlink:href=\"#DejaVuSans-6e\"/>\r\n       <use x=\"870.654297\" xlink:href=\"#DejaVuSans-20\"/>\r\n       <use x=\"902.441406\" xlink:href=\"#DejaVuSans-65\"/>\r\n       <use x=\"963.964844\" xlink:href=\"#DejaVuSans-72\"/>\r\n       <use x=\"1005.0625\" xlink:href=\"#DejaVuSans-72\"/>\r\n       <use x=\"1046.144531\" xlink:href=\"#DejaVuSans-6f\"/>\r\n       <use x=\"1107.326172\" xlink:href=\"#DejaVuSans-72\"/>\r\n      </g>\r\n     </g>\r\n    </g>\r\n    <g id=\"ytick_21\">\r\n     <g id=\"line2d_30\">\r\n      <g>\r\n       <use style=\"stroke:#000000;stroke-width:0.8;\" x=\"146.479688\" xlink:href=\"#m1c786c4a49\" y=\"130.673293\"/>\r\n      </g>\r\n     </g>\r\n     <g id=\"text_31\">\r\n      <!-- worst radius -->\r\n      <defs>\r\n       <path d=\"M 4.203125 54.6875 \r\nL 13.1875 54.6875 \r\nL 24.421875 12.015625 \r\nL 35.59375 54.6875 \r\nL 46.1875 54.6875 \r\nL 57.421875 12.015625 \r\nL 68.609375 54.6875 \r\nL 77.59375 54.6875 \r\nL 63.28125 0 \r\nL 52.6875 0 \r\nL 40.921875 44.828125 \r\nL 29.109375 0 \r\nL 18.5 0 \r\nz\r\n\" id=\"DejaVuSans-77\"/>\r\n      </defs>\r\n      <g transform=\"translate(77.851562 134.472512)scale(0.1 -0.1)\">\r\n       <use xlink:href=\"#DejaVuSans-77\"/>\r\n       <use x=\"81.787109\" xlink:href=\"#DejaVuSans-6f\"/>\r\n       <use x=\"142.96875\" xlink:href=\"#DejaVuSans-72\"/>\r\n       <use x=\"184.082031\" xlink:href=\"#DejaVuSans-73\"/>\r\n       <use x=\"236.181641\" xlink:href=\"#DejaVuSans-74\"/>\r\n       <use x=\"275.390625\" xlink:href=\"#DejaVuSans-20\"/>\r\n       <use x=\"307.177734\" xlink:href=\"#DejaVuSans-72\"/>\r\n       <use x=\"348.291016\" xlink:href=\"#DejaVuSans-61\"/>\r\n       <use x=\"409.570312\" xlink:href=\"#DejaVuSans-64\"/>\r\n       <use x=\"473.046875\" xlink:href=\"#DejaVuSans-69\"/>\r\n       <use x=\"500.830078\" xlink:href=\"#DejaVuSans-75\"/>\r\n       <use x=\"564.208984\" xlink:href=\"#DejaVuSans-73\"/>\r\n      </g>\r\n     </g>\r\n    </g>\r\n    <g id=\"ytick_22\">\r\n     <g id=\"line2d_31\">\r\n      <g>\r\n       <use style=\"stroke:#000000;stroke-width:0.8;\" x=\"146.479688\" xlink:href=\"#m1c786c4a49\" y=\"120.723323\"/>\r\n      </g>\r\n     </g>\r\n     <g id=\"text_32\">\r\n      <!-- worst texture -->\r\n      <g transform=\"translate(72.254688 124.522542)scale(0.1 -0.1)\">\r\n       <use xlink:href=\"#DejaVuSans-77\"/>\r\n       <use x=\"81.787109\" xlink:href=\"#DejaVuSans-6f\"/>\r\n       <use x=\"142.96875\" xlink:href=\"#DejaVuSans-72\"/>\r\n       <use x=\"184.082031\" xlink:href=\"#DejaVuSans-73\"/>\r\n       <use x=\"236.181641\" xlink:href=\"#DejaVuSans-74\"/>\r\n       <use x=\"275.390625\" xlink:href=\"#DejaVuSans-20\"/>\r\n       <use x=\"307.177734\" xlink:href=\"#DejaVuSans-74\"/>\r\n       <use x=\"346.386719\" xlink:href=\"#DejaVuSans-65\"/>\r\n       <use x=\"407.894531\" xlink:href=\"#DejaVuSans-78\"/>\r\n       <use x=\"467.074219\" xlink:href=\"#DejaVuSans-74\"/>\r\n       <use x=\"506.283203\" xlink:href=\"#DejaVuSans-75\"/>\r\n       <use x=\"569.662109\" xlink:href=\"#DejaVuSans-72\"/>\r\n       <use x=\"610.744141\" xlink:href=\"#DejaVuSans-65\"/>\r\n      </g>\r\n     </g>\r\n    </g>\r\n    <g id=\"ytick_23\">\r\n     <g id=\"line2d_32\">\r\n      <g>\r\n       <use style=\"stroke:#000000;stroke-width:0.8;\" x=\"146.479688\" xlink:href=\"#m1c786c4a49\" y=\"110.773354\"/>\r\n      </g>\r\n     </g>\r\n     <g id=\"text_33\">\r\n      <!-- worst perimeter -->\r\n      <g transform=\"translate(59.295313 114.572573)scale(0.1 -0.1)\">\r\n       <use xlink:href=\"#DejaVuSans-77\"/>\r\n       <use x=\"81.787109\" xlink:href=\"#DejaVuSans-6f\"/>\r\n       <use x=\"142.96875\" xlink:href=\"#DejaVuSans-72\"/>\r\n       <use x=\"184.082031\" xlink:href=\"#DejaVuSans-73\"/>\r\n       <use x=\"236.181641\" xlink:href=\"#DejaVuSans-74\"/>\r\n       <use x=\"275.390625\" xlink:href=\"#DejaVuSans-20\"/>\r\n       <use x=\"307.177734\" xlink:href=\"#DejaVuSans-70\"/>\r\n       <use x=\"370.654297\" xlink:href=\"#DejaVuSans-65\"/>\r\n       <use x=\"432.177734\" xlink:href=\"#DejaVuSans-72\"/>\r\n       <use x=\"473.291016\" xlink:href=\"#DejaVuSans-69\"/>\r\n       <use x=\"501.074219\" xlink:href=\"#DejaVuSans-6d\"/>\r\n       <use x=\"598.486328\" xlink:href=\"#DejaVuSans-65\"/>\r\n       <use x=\"660.009766\" xlink:href=\"#DejaVuSans-74\"/>\r\n       <use x=\"699.21875\" xlink:href=\"#DejaVuSans-65\"/>\r\n       <use x=\"760.742188\" xlink:href=\"#DejaVuSans-72\"/>\r\n      </g>\r\n     </g>\r\n    </g>\r\n    <g id=\"ytick_24\">\r\n     <g id=\"line2d_33\">\r\n      <g>\r\n       <use style=\"stroke:#000000;stroke-width:0.8;\" x=\"146.479688\" xlink:href=\"#m1c786c4a49\" y=\"100.823384\"/>\r\n      </g>\r\n     </g>\r\n     <g id=\"text_34\">\r\n      <!-- worst area -->\r\n      <g transform=\"translate(86.246875 104.622603)scale(0.1 -0.1)\">\r\n       <use xlink:href=\"#DejaVuSans-77\"/>\r\n       <use x=\"81.787109\" xlink:href=\"#DejaVuSans-6f\"/>\r\n       <use x=\"142.96875\" xlink:href=\"#DejaVuSans-72\"/>\r\n       <use x=\"184.082031\" xlink:href=\"#DejaVuSans-73\"/>\r\n       <use x=\"236.181641\" xlink:href=\"#DejaVuSans-74\"/>\r\n       <use x=\"275.390625\" xlink:href=\"#DejaVuSans-20\"/>\r\n       <use x=\"307.177734\" xlink:href=\"#DejaVuSans-61\"/>\r\n       <use x=\"368.457031\" xlink:href=\"#DejaVuSans-72\"/>\r\n       <use x=\"409.539062\" xlink:href=\"#DejaVuSans-65\"/>\r\n       <use x=\"471.0625\" xlink:href=\"#DejaVuSans-61\"/>\r\n      </g>\r\n     </g>\r\n    </g>\r\n    <g id=\"ytick_25\">\r\n     <g id=\"line2d_34\">\r\n      <g>\r\n       <use style=\"stroke:#000000;stroke-width:0.8;\" x=\"146.479688\" xlink:href=\"#m1c786c4a49\" y=\"90.873415\"/>\r\n      </g>\r\n     </g>\r\n     <g id=\"text_35\">\r\n      <!-- worst smoothness -->\r\n      <g transform=\"translate(48.409375 94.672634)scale(0.1 -0.1)\">\r\n       <use xlink:href=\"#DejaVuSans-77\"/>\r\n       <use x=\"81.787109\" xlink:href=\"#DejaVuSans-6f\"/>\r\n       <use x=\"142.96875\" xlink:href=\"#DejaVuSans-72\"/>\r\n       <use x=\"184.082031\" xlink:href=\"#DejaVuSans-73\"/>\r\n       <use x=\"236.181641\" xlink:href=\"#DejaVuSans-74\"/>\r\n       <use x=\"275.390625\" xlink:href=\"#DejaVuSans-20\"/>\r\n       <use x=\"307.177734\" xlink:href=\"#DejaVuSans-73\"/>\r\n       <use x=\"359.277344\" xlink:href=\"#DejaVuSans-6d\"/>\r\n       <use x=\"456.689453\" xlink:href=\"#DejaVuSans-6f\"/>\r\n       <use x=\"517.871094\" xlink:href=\"#DejaVuSans-6f\"/>\r\n       <use x=\"579.052734\" xlink:href=\"#DejaVuSans-74\"/>\r\n       <use x=\"618.261719\" xlink:href=\"#DejaVuSans-68\"/>\r\n       <use x=\"681.640625\" xlink:href=\"#DejaVuSans-6e\"/>\r\n       <use x=\"745.019531\" xlink:href=\"#DejaVuSans-65\"/>\r\n       <use x=\"806.542969\" xlink:href=\"#DejaVuSans-73\"/>\r\n       <use x=\"858.642578\" xlink:href=\"#DejaVuSans-73\"/>\r\n      </g>\r\n     </g>\r\n    </g>\r\n    <g id=\"ytick_26\">\r\n     <g id=\"line2d_35\">\r\n      <g>\r\n       <use style=\"stroke:#000000;stroke-width:0.8;\" x=\"146.479688\" xlink:href=\"#m1c786c4a49\" y=\"80.923445\"/>\r\n      </g>\r\n     </g>\r\n     <g id=\"text_36\">\r\n      <!-- worst compactness -->\r\n      <g transform=\"translate(42.601562 84.722664)scale(0.1 -0.1)\">\r\n       <use xlink:href=\"#DejaVuSans-77\"/>\r\n       <use x=\"81.787109\" xlink:href=\"#DejaVuSans-6f\"/>\r\n       <use x=\"142.96875\" xlink:href=\"#DejaVuSans-72\"/>\r\n       <use x=\"184.082031\" xlink:href=\"#DejaVuSans-73\"/>\r\n       <use x=\"236.181641\" xlink:href=\"#DejaVuSans-74\"/>\r\n       <use x=\"275.390625\" xlink:href=\"#DejaVuSans-20\"/>\r\n       <use x=\"307.177734\" xlink:href=\"#DejaVuSans-63\"/>\r\n       <use x=\"362.158203\" xlink:href=\"#DejaVuSans-6f\"/>\r\n       <use x=\"423.339844\" xlink:href=\"#DejaVuSans-6d\"/>\r\n       <use x=\"520.751953\" xlink:href=\"#DejaVuSans-70\"/>\r\n       <use x=\"584.228516\" xlink:href=\"#DejaVuSans-61\"/>\r\n       <use x=\"645.507812\" xlink:href=\"#DejaVuSans-63\"/>\r\n       <use x=\"700.488281\" xlink:href=\"#DejaVuSans-74\"/>\r\n       <use x=\"739.697266\" xlink:href=\"#DejaVuSans-6e\"/>\r\n       <use x=\"803.076172\" xlink:href=\"#DejaVuSans-65\"/>\r\n       <use x=\"864.599609\" xlink:href=\"#DejaVuSans-73\"/>\r\n       <use x=\"916.699219\" xlink:href=\"#DejaVuSans-73\"/>\r\n      </g>\r\n     </g>\r\n    </g>\r\n    <g id=\"ytick_27\">\r\n     <g id=\"line2d_36\">\r\n      <g>\r\n       <use style=\"stroke:#000000;stroke-width:0.8;\" x=\"146.479688\" xlink:href=\"#m1c786c4a49\" y=\"70.973476\"/>\r\n      </g>\r\n     </g>\r\n     <g id=\"text_37\">\r\n      <!-- worst concavity -->\r\n      <g transform=\"translate(60.646875 74.772695)scale(0.1 -0.1)\">\r\n       <use xlink:href=\"#DejaVuSans-77\"/>\r\n       <use x=\"81.787109\" xlink:href=\"#DejaVuSans-6f\"/>\r\n       <use x=\"142.96875\" xlink:href=\"#DejaVuSans-72\"/>\r\n       <use x=\"184.082031\" xlink:href=\"#DejaVuSans-73\"/>\r\n       <use x=\"236.181641\" xlink:href=\"#DejaVuSans-74\"/>\r\n       <use x=\"275.390625\" xlink:href=\"#DejaVuSans-20\"/>\r\n       <use x=\"307.177734\" xlink:href=\"#DejaVuSans-63\"/>\r\n       <use x=\"362.158203\" xlink:href=\"#DejaVuSans-6f\"/>\r\n       <use x=\"423.339844\" xlink:href=\"#DejaVuSans-6e\"/>\r\n       <use x=\"486.71875\" xlink:href=\"#DejaVuSans-63\"/>\r\n       <use x=\"541.699219\" xlink:href=\"#DejaVuSans-61\"/>\r\n       <use x=\"602.978516\" xlink:href=\"#DejaVuSans-76\"/>\r\n       <use x=\"662.158203\" xlink:href=\"#DejaVuSans-69\"/>\r\n       <use x=\"689.941406\" xlink:href=\"#DejaVuSans-74\"/>\r\n       <use x=\"729.150391\" xlink:href=\"#DejaVuSans-79\"/>\r\n      </g>\r\n     </g>\r\n    </g>\r\n    <g id=\"ytick_28\">\r\n     <g id=\"line2d_37\">\r\n      <g>\r\n       <use style=\"stroke:#000000;stroke-width:0.8;\" x=\"146.479688\" xlink:href=\"#m1c786c4a49\" y=\"61.023506\"/>\r\n      </g>\r\n     </g>\r\n     <g id=\"text_38\">\r\n      <!-- worst concave points -->\r\n      <g transform=\"translate(33.220313 64.822725)scale(0.1 -0.1)\">\r\n       <use xlink:href=\"#DejaVuSans-77\"/>\r\n       <use x=\"81.787109\" xlink:href=\"#DejaVuSans-6f\"/>\r\n       <use x=\"142.96875\" xlink:href=\"#DejaVuSans-72\"/>\r\n       <use x=\"184.082031\" xlink:href=\"#DejaVuSans-73\"/>\r\n       <use x=\"236.181641\" xlink:href=\"#DejaVuSans-74\"/>\r\n       <use x=\"275.390625\" xlink:href=\"#DejaVuSans-20\"/>\r\n       <use x=\"307.177734\" xlink:href=\"#DejaVuSans-63\"/>\r\n       <use x=\"362.158203\" xlink:href=\"#DejaVuSans-6f\"/>\r\n       <use x=\"423.339844\" xlink:href=\"#DejaVuSans-6e\"/>\r\n       <use x=\"486.71875\" xlink:href=\"#DejaVuSans-63\"/>\r\n       <use x=\"541.699219\" xlink:href=\"#DejaVuSans-61\"/>\r\n       <use x=\"602.978516\" xlink:href=\"#DejaVuSans-76\"/>\r\n       <use x=\"662.158203\" xlink:href=\"#DejaVuSans-65\"/>\r\n       <use x=\"723.681641\" xlink:href=\"#DejaVuSans-20\"/>\r\n       <use x=\"755.46875\" xlink:href=\"#DejaVuSans-70\"/>\r\n       <use x=\"818.945312\" xlink:href=\"#DejaVuSans-6f\"/>\r\n       <use x=\"880.126953\" xlink:href=\"#DejaVuSans-69\"/>\r\n       <use x=\"907.910156\" xlink:href=\"#DejaVuSans-6e\"/>\r\n       <use x=\"971.289062\" xlink:href=\"#DejaVuSans-74\"/>\r\n       <use x=\"1010.498047\" xlink:href=\"#DejaVuSans-73\"/>\r\n      </g>\r\n     </g>\r\n    </g>\r\n    <g id=\"ytick_29\">\r\n     <g id=\"line2d_38\">\r\n      <g>\r\n       <use style=\"stroke:#000000;stroke-width:0.8;\" x=\"146.479688\" xlink:href=\"#m1c786c4a49\" y=\"51.073537\"/>\r\n      </g>\r\n     </g>\r\n     <g id=\"text_39\">\r\n      <!-- worst symmetry -->\r\n      <g transform=\"translate(58.051563 54.872756)scale(0.1 -0.1)\">\r\n       <use xlink:href=\"#DejaVuSans-77\"/>\r\n       <use x=\"81.787109\" xlink:href=\"#DejaVuSans-6f\"/>\r\n       <use x=\"142.96875\" xlink:href=\"#DejaVuSans-72\"/>\r\n       <use x=\"184.082031\" xlink:href=\"#DejaVuSans-73\"/>\r\n       <use x=\"236.181641\" xlink:href=\"#DejaVuSans-74\"/>\r\n       <use x=\"275.390625\" xlink:href=\"#DejaVuSans-20\"/>\r\n       <use x=\"307.177734\" xlink:href=\"#DejaVuSans-73\"/>\r\n       <use x=\"359.277344\" xlink:href=\"#DejaVuSans-79\"/>\r\n       <use x=\"418.457031\" xlink:href=\"#DejaVuSans-6d\"/>\r\n       <use x=\"515.869141\" xlink:href=\"#DejaVuSans-6d\"/>\r\n       <use x=\"613.28125\" xlink:href=\"#DejaVuSans-65\"/>\r\n       <use x=\"674.804688\" xlink:href=\"#DejaVuSans-74\"/>\r\n       <use x=\"714.013672\" xlink:href=\"#DejaVuSans-72\"/>\r\n       <use x=\"755.126953\" xlink:href=\"#DejaVuSans-79\"/>\r\n      </g>\r\n     </g>\r\n    </g>\r\n    <g id=\"ytick_30\">\r\n     <g id=\"line2d_39\">\r\n      <g>\r\n       <use style=\"stroke:#000000;stroke-width:0.8;\" x=\"146.479688\" xlink:href=\"#m1c786c4a49\" y=\"41.123567\"/>\r\n      </g>\r\n     </g>\r\n     <g id=\"text_40\">\r\n      <!-- worst fractal dimension -->\r\n      <g transform=\"translate(21.7 44.922786)scale(0.1 -0.1)\">\r\n       <use xlink:href=\"#DejaVuSans-77\"/>\r\n       <use x=\"81.787109\" xlink:href=\"#DejaVuSans-6f\"/>\r\n       <use x=\"142.96875\" xlink:href=\"#DejaVuSans-72\"/>\r\n       <use x=\"184.082031\" xlink:href=\"#DejaVuSans-73\"/>\r\n       <use x=\"236.181641\" xlink:href=\"#DejaVuSans-74\"/>\r\n       <use x=\"275.390625\" xlink:href=\"#DejaVuSans-20\"/>\r\n       <use x=\"307.177734\" xlink:href=\"#DejaVuSans-66\"/>\r\n       <use x=\"342.382812\" xlink:href=\"#DejaVuSans-72\"/>\r\n       <use x=\"383.496094\" xlink:href=\"#DejaVuSans-61\"/>\r\n       <use x=\"444.775391\" xlink:href=\"#DejaVuSans-63\"/>\r\n       <use x=\"499.755859\" xlink:href=\"#DejaVuSans-74\"/>\r\n       <use x=\"538.964844\" xlink:href=\"#DejaVuSans-61\"/>\r\n       <use x=\"600.244141\" xlink:href=\"#DejaVuSans-6c\"/>\r\n       <use x=\"628.027344\" xlink:href=\"#DejaVuSans-20\"/>\r\n       <use x=\"659.814453\" xlink:href=\"#DejaVuSans-64\"/>\r\n       <use x=\"723.291016\" xlink:href=\"#DejaVuSans-69\"/>\r\n       <use x=\"751.074219\" xlink:href=\"#DejaVuSans-6d\"/>\r\n       <use x=\"848.486328\" xlink:href=\"#DejaVuSans-65\"/>\r\n       <use x=\"910.009766\" xlink:href=\"#DejaVuSans-6e\"/>\r\n       <use x=\"973.388672\" xlink:href=\"#DejaVuSans-73\"/>\r\n       <use x=\"1025.488281\" xlink:href=\"#DejaVuSans-69\"/>\r\n       <use x=\"1053.271484\" xlink:href=\"#DejaVuSans-6f\"/>\r\n       <use x=\"1114.453125\" xlink:href=\"#DejaVuSans-6e\"/>\r\n      </g>\r\n     </g>\r\n    </g>\r\n    <g id=\"text_41\">\r\n     <!-- Features -->\r\n     <defs>\r\n      <path d=\"M 9.8125 72.90625 \r\nL 51.703125 72.90625 \r\nL 51.703125 64.59375 \r\nL 19.671875 64.59375 \r\nL 19.671875 43.109375 \r\nL 48.578125 43.109375 \r\nL 48.578125 34.8125 \r\nL 19.671875 34.8125 \r\nL 19.671875 0 \r\nL 9.8125 0 \r\nz\r\n\" id=\"DejaVuSans-46\"/>\r\n     </defs>\r\n     <g transform=\"translate(14.798438 207.274687)rotate(-90)scale(0.1 -0.1)\">\r\n      <use xlink:href=\"#DejaVuSans-46\"/>\r\n      <use x=\"57.441406\" xlink:href=\"#DejaVuSans-65\"/>\r\n      <use x=\"118.964844\" xlink:href=\"#DejaVuSans-61\"/>\r\n      <use x=\"180.244141\" xlink:href=\"#DejaVuSans-74\"/>\r\n      <use x=\"219.453125\" xlink:href=\"#DejaVuSans-75\"/>\r\n      <use x=\"282.832031\" xlink:href=\"#DejaVuSans-72\"/>\r\n      <use x=\"323.914062\" xlink:href=\"#DejaVuSans-65\"/>\r\n      <use x=\"385.4375\" xlink:href=\"#DejaVuSans-73\"/>\r\n     </g>\r\n    </g>\r\n   </g>\r\n   <g id=\"patch_33\">\r\n    <path d=\"M 146.479688 348.478125 \r\nL 146.479688 22.318125 \r\n\" style=\"fill:none;stroke:#000000;stroke-linecap:square;stroke-linejoin:miter;stroke-width:0.8;\"/>\r\n   </g>\r\n   <g id=\"patch_34\">\r\n    <path d=\"M 592.879688 348.478125 \r\nL 592.879688 22.318125 \r\n\" style=\"fill:none;stroke:#000000;stroke-linecap:square;stroke-linejoin:miter;stroke-width:0.8;\"/>\r\n   </g>\r\n   <g id=\"patch_35\">\r\n    <path d=\"M 146.479688 348.478125 \r\nL 592.879688 348.478125 \r\n\" style=\"fill:none;stroke:#000000;stroke-linecap:square;stroke-linejoin:miter;stroke-width:0.8;\"/>\r\n   </g>\r\n   <g id=\"patch_36\">\r\n    <path d=\"M 146.479688 22.318125 \r\nL 592.879688 22.318125 \r\n\" style=\"fill:none;stroke:#000000;stroke-linecap:square;stroke-linejoin:miter;stroke-width:0.8;\"/>\r\n   </g>\r\n   <g id=\"text_42\">\r\n    <!-- Feature Importnace of Decision Tree with max_depth=10 -->\r\n    <defs>\r\n     <path d=\"M 9.8125 72.90625 \r\nL 19.671875 72.90625 \r\nL 19.671875 0 \r\nL 9.8125 0 \r\nz\r\n\" id=\"DejaVuSans-49\"/>\r\n     <path d=\"M 19.671875 64.796875 \r\nL 19.671875 8.109375 \r\nL 31.59375 8.109375 \r\nQ 46.6875 8.109375 53.6875 14.9375 \r\nQ 60.6875 21.78125 60.6875 36.53125 \r\nQ 60.6875 51.171875 53.6875 57.984375 \r\nQ 46.6875 64.796875 31.59375 64.796875 \r\nz\r\nM 9.8125 72.90625 \r\nL 30.078125 72.90625 \r\nQ 51.265625 72.90625 61.171875 64.09375 \r\nQ 71.09375 55.28125 71.09375 36.53125 \r\nQ 71.09375 17.671875 61.125 8.828125 \r\nQ 51.171875 0 30.078125 0 \r\nL 9.8125 0 \r\nz\r\n\" id=\"DejaVuSans-44\"/>\r\n     <path d=\"M -0.296875 72.90625 \r\nL 61.375 72.90625 \r\nL 61.375 64.59375 \r\nL 35.5 64.59375 \r\nL 35.5 0 \r\nL 25.59375 0 \r\nL 25.59375 64.59375 \r\nL -0.296875 64.59375 \r\nz\r\n\" id=\"DejaVuSans-54\"/>\r\n     <path d=\"M 50.984375 -16.609375 \r\nL 50.984375 -23.578125 \r\nL -0.984375 -23.578125 \r\nL -0.984375 -16.609375 \r\nz\r\n\" id=\"DejaVuSans-5f\"/>\r\n     <path d=\"M 10.59375 45.40625 \r\nL 73.1875 45.40625 \r\nL 73.1875 37.203125 \r\nL 10.59375 37.203125 \r\nz\r\nM 10.59375 25.484375 \r\nL 73.1875 25.484375 \r\nL 73.1875 17.1875 \r\nL 10.59375 17.1875 \r\nz\r\n\" id=\"DejaVuSans-3d\"/>\r\n    </defs>\r\n    <g transform=\"translate(196.9725 16.318125)scale(0.12 -0.12)\">\r\n     <use xlink:href=\"#DejaVuSans-46\"/>\r\n     <use x=\"57.441406\" xlink:href=\"#DejaVuSans-65\"/>\r\n     <use x=\"118.964844\" xlink:href=\"#DejaVuSans-61\"/>\r\n     <use x=\"180.244141\" xlink:href=\"#DejaVuSans-74\"/>\r\n     <use x=\"219.453125\" xlink:href=\"#DejaVuSans-75\"/>\r\n     <use x=\"282.832031\" xlink:href=\"#DejaVuSans-72\"/>\r\n     <use x=\"323.914062\" xlink:href=\"#DejaVuSans-65\"/>\r\n     <use x=\"385.4375\" xlink:href=\"#DejaVuSans-20\"/>\r\n     <use x=\"417.224609\" xlink:href=\"#DejaVuSans-49\"/>\r\n     <use x=\"446.716797\" xlink:href=\"#DejaVuSans-6d\"/>\r\n     <use x=\"544.128906\" xlink:href=\"#DejaVuSans-70\"/>\r\n     <use x=\"607.605469\" xlink:href=\"#DejaVuSans-6f\"/>\r\n     <use x=\"668.787109\" xlink:href=\"#DejaVuSans-72\"/>\r\n     <use x=\"709.900391\" xlink:href=\"#DejaVuSans-74\"/>\r\n     <use x=\"749.109375\" xlink:href=\"#DejaVuSans-6e\"/>\r\n     <use x=\"812.488281\" xlink:href=\"#DejaVuSans-61\"/>\r\n     <use x=\"873.767578\" xlink:href=\"#DejaVuSans-63\"/>\r\n     <use x=\"928.748047\" xlink:href=\"#DejaVuSans-65\"/>\r\n     <use x=\"990.271484\" xlink:href=\"#DejaVuSans-20\"/>\r\n     <use x=\"1022.058594\" xlink:href=\"#DejaVuSans-6f\"/>\r\n     <use x=\"1083.240234\" xlink:href=\"#DejaVuSans-66\"/>\r\n     <use x=\"1118.445312\" xlink:href=\"#DejaVuSans-20\"/>\r\n     <use x=\"1150.232422\" xlink:href=\"#DejaVuSans-44\"/>\r\n     <use x=\"1227.234375\" xlink:href=\"#DejaVuSans-65\"/>\r\n     <use x=\"1288.757812\" xlink:href=\"#DejaVuSans-63\"/>\r\n     <use x=\"1343.738281\" xlink:href=\"#DejaVuSans-69\"/>\r\n     <use x=\"1371.521484\" xlink:href=\"#DejaVuSans-73\"/>\r\n     <use x=\"1423.621094\" xlink:href=\"#DejaVuSans-69\"/>\r\n     <use x=\"1451.404297\" xlink:href=\"#DejaVuSans-6f\"/>\r\n     <use x=\"1512.585938\" xlink:href=\"#DejaVuSans-6e\"/>\r\n     <use x=\"1575.964844\" xlink:href=\"#DejaVuSans-20\"/>\r\n     <use x=\"1607.751953\" xlink:href=\"#DejaVuSans-54\"/>\r\n     <use x=\"1668.617188\" xlink:href=\"#DejaVuSans-72\"/>\r\n     <use x=\"1709.699219\" xlink:href=\"#DejaVuSans-65\"/>\r\n     <use x=\"1771.222656\" xlink:href=\"#DejaVuSans-65\"/>\r\n     <use x=\"1832.746094\" xlink:href=\"#DejaVuSans-20\"/>\r\n     <use x=\"1864.533203\" xlink:href=\"#DejaVuSans-77\"/>\r\n     <use x=\"1946.320312\" xlink:href=\"#DejaVuSans-69\"/>\r\n     <use x=\"1974.103516\" xlink:href=\"#DejaVuSans-74\"/>\r\n     <use x=\"2013.3125\" xlink:href=\"#DejaVuSans-68\"/>\r\n     <use x=\"2076.691406\" xlink:href=\"#DejaVuSans-20\"/>\r\n     <use x=\"2108.478516\" xlink:href=\"#DejaVuSans-6d\"/>\r\n     <use x=\"2205.890625\" xlink:href=\"#DejaVuSans-61\"/>\r\n     <use x=\"2267.169922\" xlink:href=\"#DejaVuSans-78\"/>\r\n     <use x=\"2326.349609\" xlink:href=\"#DejaVuSans-5f\"/>\r\n     <use x=\"2376.349609\" xlink:href=\"#DejaVuSans-64\"/>\r\n     <use x=\"2439.826172\" xlink:href=\"#DejaVuSans-65\"/>\r\n     <use x=\"2501.349609\" xlink:href=\"#DejaVuSans-70\"/>\r\n     <use x=\"2564.826172\" xlink:href=\"#DejaVuSans-74\"/>\r\n     <use x=\"2604.035156\" xlink:href=\"#DejaVuSans-68\"/>\r\n     <use x=\"2667.414062\" xlink:href=\"#DejaVuSans-3d\"/>\r\n     <use x=\"2751.203125\" xlink:href=\"#DejaVuSans-31\"/>\r\n     <use x=\"2814.826172\" xlink:href=\"#DejaVuSans-30\"/>\r\n    </g>\r\n   </g>\r\n  </g>\r\n </g>\r\n <defs>\r\n  <clipPath id=\"p85bbba4d93\">\r\n   <rect height=\"326.16\" width=\"446.4\" x=\"146.479688\" y=\"22.318125\"/>\r\n  </clipPath>\r\n </defs>\r\n</svg>\r\n",
      "image/png": "[encoded data removed]"
     },
     "metadata": {
      "needs_background": "light"
     }
    }
   ],
   "source": [
    "importances = clf_depth10.feature_importance\n",
    "features = np.array(x_train.columns)\n",
    "plt.figure(figsize=(8, 6))\n",
    "plt.title('Feature Importnace of Decision Tree with max_depth=10')\n",
    "plt.ylabel('Features')\n",
    "plt.xlabel('Count')\n",
    "plt.barh(features, importances)"
   ]
  },
  {
   "cell_type": "markdown",
   "metadata": {},
   "source": [
    "## Question 4\n",
    "implement the Random Forest algorithm by using the CART you just implemented from question 2. You should implement two arguments for the Random Forest.\n",
    "\n",
    "1. **N_estimators**: The number of trees in the forest. \n",
    "2. **Max_features**: The number of random select features to consider when looking for the best split\n",
    "3. **Bootstrap**: Whether bootstrap samples are used when building tree\n"
   ]
  },
  {
   "cell_type": "code",
   "execution_count": 18,
   "metadata": {},
   "outputs": [],
   "source": [
    "class RandomForest():\n",
    "    def __init__(self, n_estimators, max_features, boostrap=True, criterion='gini', max_depth=None):\n",
    "        self.n_estimators = n_estimators\n",
    "        self.max_features = int(max_features)\n",
    "        self.boostrap = boostrap\n",
    "        self.criterion = criterion\n",
    "        self.max_depth = max_depth\n",
    "\n",
    "    def fit(self, X, y):\n",
    "        rf_model = []\n",
    "        for tree_id in range(self.n_estimators):\n",
    "            data_length = X.shape[0]\n",
    "            feature_length = X.shape[1]\n",
    "            if self.boostrap is False:\n",
    "                selected_features = np.random.choice(feature_length, self.max_features)\n",
    "                filter_X = X[:, selected_features]\n",
    "                # Build decision tree model than append to random forest model\n",
    "                dt_model = DecisionTree(criterion=self.criterion, max_depth=self.max_depth)\n",
    "                dt_model.fit(filter_X, y)\n",
    "                rf_model.append([dt_model, selected_features])\n",
    "            else:\n",
    "                # Bootstrap data from randomly selecting with replacement\n",
    "                selected_rows = np.random.choice(data_length, data_length, replace=True)\n",
    "                ensemble_X = X[selected_rows, :]\n",
    "                ensemble_y = y[selected_rows, :]\n",
    "                # Randomly select max_features' features to build a tree\n",
    "                selected_features = np.random.choice(feature_length, self.max_features)\n",
    "                ensemble_filter_X = ensemble_X[:, selected_features]\n",
    "                # Build decision tree model than append to random forest model\n",
    "                dt_model = DecisionTree(criterion=self.criterion, max_depth=self.max_depth)\n",
    "                dt_model.fit(ensemble_filter_X, ensemble_y)\n",
    "                rf_model.append([dt_model, selected_features])\n",
    "        self.rf_model = rf_model\n",
    "\n",
    "    def predict(self, X):\n",
    "        predict_class = []\n",
    "        for row_id in range(len(X)):\n",
    "            # Binary classification\n",
    "            tree_vote = {0: 0, 1: 0}\n",
    "            for tree_id in range(self.n_estimators):\n",
    "                filter_X = X[row_id, self.rf_model[tree_id][1]]\n",
    "                node = self.rf_model[tree_id][0].traverse(filter_X, self.rf_model[tree_id][0].tree_model)\n",
    "                node_class = max(node, key=node.get)\n",
    "                tree_vote[node_class] += 1\n",
    "            predict_class.append(max(tree_vote, key=tree_vote.get))\n",
    "        return np.array(predict_class)\n",
    "\n",
    "    def evaluate(self, predicted, truth):\n",
    "        correct = 0\n",
    "        for i in range(len(predicted)):\n",
    "            if predicted[i] == truth[i][0]:\n",
    "                correct += 1\n",
    "        print(\"Testing accuracy is: {} with {} / {}\".format(correct / len(predicted), correct, len(predicted)))"
   ]
  },
  {
   "cell_type": "markdown",
   "metadata": {},
   "source": [
    "### Question 4.1\n",
    "Using Criterion=‘gini’, Max_depth=None, Max_features=sqrt(n_features), showing the accuracy score of test data by n_estimators=10 and n_estimators=100, respectively.\n"
   ]
  },
  {
   "cell_type": "code",
   "execution_count": 19,
   "metadata": {
    "scrolled": true
   },
   "outputs": [
    {
     "output_type": "stream",
     "name": "stdout",
     "text": "Testing accuracy is: 0.965034965034965 with 138 / 143\n"
    }
   ],
   "source": [
    "clf_10tree = RandomForest(n_estimators=10, max_features=np.sqrt(x_train.shape[1]))\n",
    "clf_10tree.fit(x_train.values, y_train.values)\n",
    "predict_class = clf_10tree.predict(x_test.values)\n",
    "clf_10tree.evaluate(predict_class, y_test.values)"
   ]
  },
  {
   "cell_type": "code",
   "execution_count": 20,
   "metadata": {},
   "outputs": [
    {
     "output_type": "stream",
     "name": "stdout",
     "text": "Testing accuracy is: 0.9370629370629371 with 134 / 143\n"
    }
   ],
   "source": [
    "clf_100tree = RandomForest(n_estimators=100, max_features=np.sqrt(x_train.shape[1]))\n",
    "clf_100tree.fit(x_train.values, y_train.values)\n",
    "predict_class = clf_100tree.predict(x_test.values)\n",
    "clf_100tree.evaluate(predict_class, y_test.values)"
   ]
  },
  {
   "cell_type": "markdown",
   "metadata": {},
   "source": [
    "### Question 4.2\n",
    "Using Criterion=‘gini’, Max_depth=None, N_estimators=10, showing the accuracy score of test data by Max_features=sqrt(n_features) and Max_features=n_features, respectively.\n"
   ]
  },
  {
   "cell_type": "code",
   "execution_count": 21,
   "metadata": {},
   "outputs": [
    {
     "output_type": "stream",
     "name": "stdout",
     "text": "Testing accuracy is: 0.916083916083916 with 131 / 143\n"
    }
   ],
   "source": [
    "clf_all_features = RandomForest(n_estimators=10, max_features=x_train.shape[1])\n",
    "clf_all_features.fit(x_train.values, y_train.values)\n",
    "predict_class = clf_all_features.predict(x_test.values)\n",
    "clf_all_features.evaluate(predict_class, y_test.values)"
   ]
  },
  {
   "cell_type": "code",
   "execution_count": 22,
   "metadata": {},
   "outputs": [
    {
     "output_type": "stream",
     "name": "stdout",
     "text": "Testing accuracy is: 0.9230769230769231 with 132 / 143\n"
    }
   ],
   "source": [
    "clf_random_features = RandomForest(n_estimators=10, max_features=np.sqrt(x_train.shape[1]))\n",
    "clf_random_features.fit(x_train.values, y_train.values)\n",
    "predict_class = clf_random_features.predict(x_test.values)\n",
    "clf_random_features.evaluate(predict_class, y_test.values)"
   ]
  },
  {
   "cell_type": "markdown",
   "metadata": {},
   "source": [
    "- Note: Use majority votes to get the final prediction, you may get slightly different results when re-building the random forest model"
   ]
  },
  {
   "cell_type": "code",
   "execution_count": null,
   "metadata": {},
   "outputs": [],
   "source": []
  },
  {
   "cell_type": "markdown",
   "metadata": {},
   "source": [
    "## Supplementary\n",
    "If you have trouble to implement this homework, TA strongly recommend watching [this video](https://www.youtube.com/watch?v=LDRbO9a6XPU), which explains Decision Tree model clearly. But don't copy code from any resources, try to finish this homework by yourself! "
   ]
  },
  {
   "cell_type": "code",
   "execution_count": null,
   "metadata": {},
   "outputs": [],
   "source": []
  }
 ],
 "metadata": {
  "kernelspec": {
   "display_name": "Python 3.6.1 64-bit",
   "language": "python",
   "name": "python36164bit3637ec58be7647c0a17a43a38ae17041"
  },
  "language_info": {
   "codemirror_mode": {
    "name": "ipython",
    "version": 3
   },
   "file_extension": ".py",
   "mimetype": "text/x-python",
   "name": "python",
   "nbconvert_exporter": "python",
   "pygments_lexer": "ipython3",
   "version": "3.6.1-final"
  }
 },
 "nbformat": 4,
 "nbformat_minor": 4
}